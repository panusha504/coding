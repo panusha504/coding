{
  "nbformat": 4,
  "nbformat_minor": 0,
  "metadata": {
    "colab": {
      "provenance": [],
      "authorship_tag": "ABX9TyO04hAnaYquK2jrvfocmOSb",
      "include_colab_link": true
    },
    "kernelspec": {
      "name": "python3",
      "display_name": "Python 3"
    },
    "language_info": {
      "name": "python"
    }
  },
  "cells": [
    {
      "cell_type": "markdown",
      "metadata": {
        "id": "view-in-github",
        "colab_type": "text"
      },
      "source": [
        "<a href=\"https://colab.research.google.com/github/panusha504/coding/blob/master/tree(Data_Structures).ipynb\" target=\"_parent\"><img src=\"https://colab.research.google.com/assets/colab-badge.svg\" alt=\"Open In Colab\"/></a>"
      ]
    },
    {
      "cell_type": "code",
      "execution_count": null,
      "metadata": {
        "id": "LN3LKJp3Cj4l",
        "colab": {
          "base_uri": "https://localhost:8080/"
        },
        "outputId": "5413764a-b476-4c00-df1c-483f159582ff"
      },
      "outputs": [
        {
          "output_type": "stream",
          "name": "stdout",
          "text": [
            "[3, 7, 8, 9, 5, 10]\n",
            "5\n",
            "[3, 7, 8, 9, 10, 5]\n"
          ]
        }
      ],
      "source": [
        "def pos(a,val,n):\n",
        "  for i in range(n):\n",
        "    if (val==a[i]):\n",
        "      a[i],a[len(a)-1]=a[len(a)-1],a[i]\n",
        "      i=-1\n",
        "  for j in range(0,n-1):\n",
        "    if (a[j]<val):\n",
        "      i=i+1\n",
        "      a[i],a[j]=a[j],a[i]\n",
        "  i=i+1\n",
        "  a[i],a[j]=a[j],a[i]\n",
        "  print(i)\n",
        "a=[3,7,8,9,5,10]\n",
        "print(a)\n",
        "pos(a,10,len(a))\n",
        "print(a)"
      ]
    },
    {
      "cell_type": "code",
      "source": [
        "def pos(a,val):\n",
        "  for i in range(len(a)):\n",
        "    if a[i]==val:\n",
        "      a[i],a[len(a)-1]=a[len(a)-1],a[i]\n",
        "  i=-1\n",
        "  for j in range(0,len(a)-1):\n",
        "    if a[j]<val:\n",
        "      i=i+1\n",
        "      a[i],a[j]=a[j],a[i]\n",
        "  i+=1\n",
        "  a[i],a[j+1]=a[j+1],a[i]\n",
        "  return i\n",
        "a=[5,9,3,6,8,7,2]\n",
        "print(a)\n",
        "print(pos(a,7))\n",
        "print(a)"
      ],
      "metadata": {
        "colab": {
          "base_uri": "https://localhost:8080/"
        },
        "id": "61E33fsyFftS",
        "outputId": "0e4fc679-1ad2-4ccf-cabd-174b2c006101"
      },
      "execution_count": null,
      "outputs": [
        {
          "output_type": "stream",
          "name": "stdout",
          "text": [
            "[5, 9, 3, 6, 8, 7, 2]\n",
            "4\n",
            "[5, 3, 6, 2, 7, 9, 8]\n"
          ]
        }
      ]
    }
  ]
}