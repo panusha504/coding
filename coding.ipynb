{
  "nbformat": 4,
  "nbformat_minor": 0,
  "metadata": {
    "colab": {
      "provenance": [],
      "authorship_tag": "ABX9TyMVZj4JCVJi7juYdEPB/tri",
      "include_colab_link": true
    },
    "kernelspec": {
      "name": "python3",
      "display_name": "Python 3"
    },
    "language_info": {
      "name": "python"
    }
  },
  "cells": [
    {
      "cell_type": "markdown",
      "metadata": {
        "id": "view-in-github",
        "colab_type": "text"
      },
      "source": [
        "<a href=\"https://colab.research.google.com/github/panusha504/coding/blob/master/coding.ipynb\" target=\"_parent\"><img src=\"https://colab.research.google.com/assets/colab-badge.svg\" alt=\"Open In Colab\"/></a>"
      ]
    },
    {
      "cell_type": "markdown",
      "source": [
        "Harshad number:21\n",
        "spilt 2,1\n",
        "2+1=3\n",
        "21%3=0"
      ],
      "metadata": {
        "id": "RFw8l20Byh9n"
      }
    },
    {
      "cell_type": "code",
      "source": [
        "n = 21\n",
        "s = n\n",
        "sum = 0\n",
        "while n != 0:\n",
        "    rem = n % 10\n",
        "    sum += rem\n",
        "    n = n // 10\n",
        "\n",
        "if s % sum== 0:\n",
        "    print(\"Harshad number\")\n",
        "else:\n",
        "    print(\"Not Harshad number\")\n"
      ],
      "metadata": {
        "id": "hO-0FqViypB5",
        "outputId": "2834ac3b-485e-4c6a-a384-5693d6e670d1",
        "colab": {
          "base_uri": "https://localhost:8080/"
        }
      },
      "execution_count": 15,
      "outputs": [
        {
          "output_type": "stream",
          "name": "stdout",
          "text": [
            "Harshad number\n"
          ]
        }
      ]
    },
    {
      "cell_type": "markdown",
      "source": [
        "Friendly pair number"
      ],
      "metadata": {
        "id": "KHaumrz4yvbs"
      }
    },
    {
      "cell_type": "code",
      "source": [
        "n = int(input(\"Enter a number: \"))\n",
        "n1 = int(input(\"Enter another number: \"))\n",
        "l1 = []\n",
        "l2 = []\n",
        "\n",
        "for i in range(1, n):\n",
        "    if n % i == 0:\n",
        "        l1.append(i)\n",
        "\n",
        "for j in range(1, n1):\n",
        "    if n1 % j == 0:\n",
        "        l2.append(j)\n",
        "\n",
        "if sum(l1) == n1 and sum(l2) == n:\n",
        "    print(\"Friendly pair numbers\")\n",
        "else:\n",
        "    print(\"Not a friendly pair of numbers\")"
      ],
      "metadata": {
        "id": "d74rSmC2yuaF"
      },
      "execution_count": null,
      "outputs": []
    },
    {
      "cell_type": "markdown",
      "source": [
        "fibbonaci series:start from o,1 and after that add two number 0+1=1,1+1=2,2+1=3,2+2=5..."
      ],
      "metadata": {
        "id": "x97Z0L4Wy6Cl"
      }
    },
    {
      "cell_type": "code",
      "source": [
        "n=int(input())\n",
        "n1=0\n",
        "n2=1\n",
        "c=0\n",
        "print(n1,n2,end=\" \")\n",
        "for i in range(2,n+1):\n",
        "    n3=n1+n2\n",
        "    n1=n2\n",
        "    n2=n3\n",
        "    print(n2,end=\" \")"
      ],
      "metadata": {
        "id": "pUxo9i0By4tE",
        "outputId": "9c58e31c-602e-4cb0-e8e7-71d5eb66b7be",
        "colab": {
          "base_uri": "https://localhost:8080/"
        }
      },
      "execution_count": 16,
      "outputs": [
        {
          "output_type": "stream",
          "name": "stdout",
          "text": [
            "7\n",
            "0 1 1 2 3 5 8 13 "
          ]
        }
      ]
    },
    {
      "cell_type": "code",
      "execution_count": null,
      "metadata": {
        "colab": {
          "base_uri": "https://localhost:8080/"
        },
        "id": "SlQyL1ZSr_qQ",
        "outputId": "daca9739-b5db-488e-a8a2-87a1d27f76cb"
      },
      "outputs": [
        {
          "output_type": "stream",
          "name": "stdout",
          "text": [
            "Enter number of elements : 3\n",
            "ANUSHA\n",
            "1\n",
            "SHARONI\n",
            "2\n",
            "SHIREESHA\n",
            "3\n",
            "[['ANUSHA', 1], ['SHARONI', 2], ['SHIREESHA', 3]]\n"
          ]
        }
      ],
      "source": [
        "lst = []\n",
        "n = int(input(\"Enter number of elements : \"))\n",
        "\n",
        "for i in range(0, n):\n",
        "    ele = [input(), int(input())]\n",
        "    lst.append(ele)\n",
        "\n",
        "print(lst)\n"
      ]
    },
    {
      "cell_type": "markdown",
      "source": [
        "square numbers upto n\n"
      ],
      "metadata": {
        "id": "JetDrdqStjf0"
      }
    },
    {
      "cell_type": "code",
      "source": [
        "n=int(input())\n",
        "for i in range(n+1):\n",
        "  print(i**2)"
      ],
      "metadata": {
        "colab": {
          "base_uri": "https://localhost:8080/"
        },
        "id": "7KuGKfM1til9",
        "outputId": "eabdab25-2e2e-4dbc-f799-af74cb9e1daa"
      },
      "execution_count": null,
      "outputs": [
        {
          "output_type": "stream",
          "name": "stdout",
          "text": [
            "6\n",
            "0\n",
            "1\n",
            "4\n",
            "9\n",
            "16\n",
            "25\n",
            "36\n"
          ]
        }
      ]
    },
    {
      "cell_type": "markdown",
      "source": [
        "RVERSE NUMBER IN A STRING"
      ],
      "metadata": {
        "id": "2zaQm7BPt7So"
      }
    },
    {
      "cell_type": "code",
      "source": [
        "s=\"welcome to india\".split()\n",
        "n=\" \"\n",
        "for i in s[::-1]:\n",
        "  n+=i+\" \"\n",
        "st=n[:-1]\n",
        "print(st)"
      ],
      "metadata": {
        "colab": {
          "base_uri": "https://localhost:8080/"
        },
        "id": "d8axnsUruAgp",
        "outputId": "9a85052a-86e7-4f80-be95-790ae8ee6bf4"
      },
      "execution_count": null,
      "outputs": [
        {
          "output_type": "stream",
          "name": "stdout",
          "text": [
            " india to welcome\n"
          ]
        }
      ]
    },
    {
      "cell_type": "markdown",
      "source": [],
      "metadata": {
        "id": "XlgtCVunBp0i"
      }
    },
    {
      "cell_type": "code",
      "source": [
        "n=802400\n",
        "n1=str(n)\n",
        "n1=n1[::-1]\n",
        "print(n1)\n",
        "count=0\n",
        "for i in n1:\n",
        "  if i=='0':\n",
        "    count+=1\n",
        "  else:\n",
        "    break\n",
        "print(count)"
      ],
      "metadata": {
        "id": "8jdU-5o2BoD_",
        "outputId": "9360e528-8438-4bc9-ea4e-f47071b57cbd",
        "colab": {
          "base_uri": "https://localhost:8080/"
        }
      },
      "execution_count": null,
      "outputs": [
        {
          "output_type": "stream",
          "name": "stdout",
          "text": [
            "004208\n",
            "2\n"
          ]
        }
      ]
    },
    {
      "cell_type": "markdown",
      "source": [
        "LCM/HCF"
      ],
      "metadata": {
        "id": "TZ96lIjAE-MP"
      }
    },
    {
      "cell_type": "code",
      "source": [],
      "metadata": {
        "id": "Bp7N8O-ZH-we"
      },
      "execution_count": null,
      "outputs": []
    }
  ]
}