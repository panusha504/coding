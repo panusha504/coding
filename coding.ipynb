{
  "nbformat": 4,
  "nbformat_minor": 0,
  "metadata": {
    "colab": {
      "provenance": [],
      "authorship_tag": "ABX9TyOphwyic2OkadOs5T3lxybV",
      "include_colab_link": true
    },
    "kernelspec": {
      "name": "python3",
      "display_name": "Python 3"
    },
    "language_info": {
      "name": "python"
    }
  },
  "cells": [
    {
      "cell_type": "markdown",
      "metadata": {
        "id": "view-in-github",
        "colab_type": "text"
      },
      "source": [
        "<a href=\"https://colab.research.google.com/github/panusha504/coding/blob/master/coding.ipynb\" target=\"_parent\"><img src=\"https://colab.research.google.com/assets/colab-badge.svg\" alt=\"Open In Colab\"/></a>"
      ]
    },
    {
      "cell_type": "markdown",
      "source": [
        ". Minimize String Length"
      ],
      "metadata": {
        "id": "9ISyToaKjSMe"
      }
    },
    {
      "cell_type": "code",
      "source": [
        "s = \"aaabc\"\n",
        "l=set(sorted(s))\n",
        "print(len(l))\n",
        "\n"
      ],
      "metadata": {
        "id": "4ZTAj9kbXNpH",
        "outputId": "5ef09bbe-c15d-4c91-a425-6cea4b96ac64",
        "colab": {
          "base_uri": "https://localhost:8080/"
        }
      },
      "execution_count": null,
      "outputs": [
        {
          "output_type": "stream",
          "name": "stdout",
          "text": [
            "3\n"
          ]
        }
      ]
    },
    {
      "cell_type": "code",
      "source": [
        "s = \"goodmorning\"\n",
        "l=set(s)\n",
        "l1 =list(l)\n",
        "l1.sort()\n",
        "for i in l1:\n",
        "  print(i,s.count(i))\n"
      ],
      "metadata": {
        "id": "L4CpTnNbaXSm",
        "outputId": "928cdf2c-3e43-492a-845e-c6dd5d43f678",
        "colab": {
          "base_uri": "https://localhost:8080/"
        }
      },
      "execution_count": 13,
      "outputs": [
        {
          "output_type": "stream",
          "name": "stdout",
          "text": [
            "d 1\n",
            "g 2\n",
            "i 1\n",
            "m 1\n",
            "n 2\n",
            "o 3\n",
            "r 1\n"
          ]
        }
      ]
    },
    {
      "cell_type": "code",
      "source": [
        "s = \"cbbd\"\n",
        "count = len(s)\n",
        "print(count)\n"
      ],
      "metadata": {
        "id": "PCvXY4jphbEu",
        "outputId": "10f546f0-f965-4e71-abce-c2afef1140ae",
        "colab": {
          "base_uri": "https://localhost:8080/"
        }
      },
      "execution_count": null,
      "outputs": [
        {
          "output_type": "stream",
          "name": "stdout",
          "text": [
            "4\n"
          ]
        }
      ]
    },
    {
      "cell_type": "code",
      "source": [
        "s = \"cbbd\"\n",
        "l = set(sorted(s))\n",
        "print(len(l))\n"
      ],
      "metadata": {
        "id": "OH9DTd-Bhhys",
        "outputId": "890ef01a-4dea-424f-f289-da9b6668ddc4",
        "colab": {
          "base_uri": "https://localhost:8080/"
        }
      },
      "execution_count": null,
      "outputs": [
        {
          "output_type": "stream",
          "name": "stdout",
          "text": [
            "3\n"
          ]
        }
      ]
    },
    {
      "cell_type": "code",
      "source": [
        "s=\"Good_morning\"\n",
        "l=set(sorted(s))\n",
        "l1=l.remove('_')\n",
        "for i in l:\n",
        "  print(i,s.count(i))"
      ],
      "metadata": {
        "id": "18ZN5jWOgQli"
      },
      "execution_count": null,
      "outputs": []
    },
    {
      "cell_type": "code",
      "source": [
        "s=\"goodmorning\"\n",
        "l1=set(sorted(s))\n",
        "for i in l1:\n",
        "  count=l1.count(i)\n",
        "  print(i,count)"
      ],
      "metadata": {
        "id": "y7WAYMTMcwkr",
        "outputId": "cc673829-45f6-4e35-96d8-4cc6f6e668a4",
        "colab": {
          "base_uri": "https://localhost:8080/",
          "height": 227
        }
      },
      "execution_count": 6,
      "outputs": [
        {
          "output_type": "error",
          "ename": "AttributeError",
          "evalue": "ignored",
          "traceback": [
            "\u001b[0;31m---------------------------------------------------------------------------\u001b[0m",
            "\u001b[0;31mAttributeError\u001b[0m                            Traceback (most recent call last)",
            "\u001b[0;32m<ipython-input-6-1aff1e405f1d>\u001b[0m in \u001b[0;36m<cell line: 3>\u001b[0;34m()\u001b[0m\n\u001b[1;32m      2\u001b[0m \u001b[0ml1\u001b[0m\u001b[0;34m=\u001b[0m\u001b[0mset\u001b[0m\u001b[0;34m(\u001b[0m\u001b[0msorted\u001b[0m\u001b[0;34m(\u001b[0m\u001b[0ms\u001b[0m\u001b[0;34m)\u001b[0m\u001b[0;34m)\u001b[0m\u001b[0;34m\u001b[0m\u001b[0;34m\u001b[0m\u001b[0m\n\u001b[1;32m      3\u001b[0m \u001b[0;32mfor\u001b[0m \u001b[0mi\u001b[0m \u001b[0;32min\u001b[0m \u001b[0ml1\u001b[0m\u001b[0;34m:\u001b[0m\u001b[0;34m\u001b[0m\u001b[0;34m\u001b[0m\u001b[0m\n\u001b[0;32m----> 4\u001b[0;31m   \u001b[0mcount\u001b[0m\u001b[0;34m=\u001b[0m\u001b[0ml1\u001b[0m\u001b[0;34m.\u001b[0m\u001b[0mcount\u001b[0m\u001b[0;34m(\u001b[0m\u001b[0mi\u001b[0m\u001b[0;34m)\u001b[0m\u001b[0;34m\u001b[0m\u001b[0;34m\u001b[0m\u001b[0m\n\u001b[0m\u001b[1;32m      5\u001b[0m   \u001b[0mprint\u001b[0m\u001b[0;34m(\u001b[0m\u001b[0mi\u001b[0m\u001b[0;34m,\u001b[0m\u001b[0mcount\u001b[0m\u001b[0;34m)\u001b[0m\u001b[0;34m\u001b[0m\u001b[0;34m\u001b[0m\u001b[0m\n",
            "\u001b[0;31mAttributeError\u001b[0m: 'set' object has no attribute 'count'"
          ]
        }
      ]
    },
    {
      "cell_type": "markdown",
      "source": [
        "\n",
        "\n",
        "1903. Largest Odd Number in String"
      ],
      "metadata": {
        "id": "PddZzo6-ufAE"
      }
    },
    {
      "cell_type": "code",
      "source": [
        "num = \"52\"\n",
        "n=list(num)\n",
        "print(n)\n",
        "l1=[]\n",
        "l2=[]\n",
        "for i in n:\n",
        "  if n%2==0:\n",
        "    l1.append(n)\n",
        "  else:\n",
        "    l2.append(n)\n",
        "print(l1)\n",
        "print(l2)"
      ],
      "metadata": {
        "colab": {
          "base_uri": "https://localhost:8080/",
          "height": 262
        },
        "id": "xj2VF_02fmWo",
        "outputId": "46a2672e-a54a-4ae9-914a-d4d939c0c5fb"
      },
      "execution_count": null,
      "outputs": [
        {
          "output_type": "stream",
          "name": "stdout",
          "text": [
            "['5', '2']\n"
          ]
        },
        {
          "output_type": "error",
          "ename": "TypeError",
          "evalue": "ignored",
          "traceback": [
            "\u001b[0;31m---------------------------------------------------------------------------\u001b[0m",
            "\u001b[0;31mTypeError\u001b[0m                                 Traceback (most recent call last)",
            "\u001b[0;32m<ipython-input-33-71334cf49b8b>\u001b[0m in \u001b[0;36m<cell line: 6>\u001b[0;34m()\u001b[0m\n\u001b[1;32m      5\u001b[0m \u001b[0ml2\u001b[0m\u001b[0;34m=\u001b[0m\u001b[0;34m[\u001b[0m\u001b[0;34m]\u001b[0m\u001b[0;34m\u001b[0m\u001b[0;34m\u001b[0m\u001b[0m\n\u001b[1;32m      6\u001b[0m \u001b[0;32mfor\u001b[0m \u001b[0mi\u001b[0m \u001b[0;32min\u001b[0m \u001b[0mn\u001b[0m\u001b[0;34m:\u001b[0m\u001b[0;34m\u001b[0m\u001b[0;34m\u001b[0m\u001b[0m\n\u001b[0;32m----> 7\u001b[0;31m   \u001b[0;32mif\u001b[0m \u001b[0mn\u001b[0m\u001b[0;34m%\u001b[0m\u001b[0;36m2\u001b[0m\u001b[0;34m==\u001b[0m\u001b[0;36m0\u001b[0m\u001b[0;34m:\u001b[0m\u001b[0;34m\u001b[0m\u001b[0;34m\u001b[0m\u001b[0m\n\u001b[0m\u001b[1;32m      8\u001b[0m     \u001b[0ml1\u001b[0m\u001b[0;34m.\u001b[0m\u001b[0mappend\u001b[0m\u001b[0;34m(\u001b[0m\u001b[0mn\u001b[0m\u001b[0;34m)\u001b[0m\u001b[0;34m\u001b[0m\u001b[0;34m\u001b[0m\u001b[0m\n\u001b[1;32m      9\u001b[0m   \u001b[0;32melse\u001b[0m\u001b[0;34m:\u001b[0m\u001b[0;34m\u001b[0m\u001b[0;34m\u001b[0m\u001b[0m\n",
            "\u001b[0;31mTypeError\u001b[0m: unsupported operand type(s) for %: 'list' and 'int'"
          ]
        }
      ]
    },
    {
      "cell_type": "code",
      "source": [
        "num = \"52\"\n",
        "n = list(num)\n",
        "l1 = \"\"\n",
        "l2 = \"\"\n",
        "\n",
        "for i in n:\n",
        "    if int(i) % 2 == 0:\n",
        "        l1+=str(i)\n",
        "    else:\n",
        "        l2+=str(i)\n",
        "\n",
        "print(l1)\n",
        "print(l2)\n"
      ],
      "metadata": {
        "colab": {
          "base_uri": "https://localhost:8080/"
        },
        "id": "_-Du_nZGfmKf",
        "outputId": "551fa950-cccf-4af3-f418-1cbb6e501b5f"
      },
      "execution_count": null,
      "outputs": [
        {
          "output_type": "stream",
          "name": "stdout",
          "text": [
            "2\n",
            "5\n"
          ]
        }
      ]
    },
    {
      "cell_type": "markdown",
      "source": [
        " Rotate String"
      ],
      "metadata": {
        "id": "U1zRv00uTV9L"
      }
    },
    {
      "cell_type": "code",
      "source": [
        "s = \"abcde\"\n",
        "goal = \"cdeab\"\n",
        "l=list(goal)\n",
        "if str(\"abcde\")==str(\"cdeab\"):\n",
        "  print(True)\n",
        "else:\n",
        "    print(False)"
      ],
      "metadata": {
        "id": "t5-6KguETZZ7",
        "outputId": "ddeb05ca-cea4-4627-fdd8-3700e1973343",
        "colab": {
          "base_uri": "https://localhost:8080/"
        }
      },
      "execution_count": null,
      "outputs": [
        {
          "output_type": "stream",
          "name": "stdout",
          "text": [
            "False\n"
          ]
        }
      ]
    },
    {
      "cell_type": "code",
      "source": [
        "num = \"4206\"\n",
        "n = list(num)\n",
        "l1 = \"\"\n",
        "l2 = \"\"\n",
        "\n",
        "for i in n:\n",
        "    if int(i) % 2 == 0:\n",
        "        l1+=str(i)\n",
        "    else:\n",
        "        l2+=str(i)\n",
        "\n",
        "print(l1)\n",
        "print(l2)"
      ],
      "metadata": {
        "colab": {
          "base_uri": "https://localhost:8080/"
        },
        "id": "4dftx9ZRsyXN",
        "outputId": "f98bc4e9-8bf0-4f83-d423-446992aa59c1"
      },
      "execution_count": null,
      "outputs": [
        {
          "output_type": "stream",
          "name": "stdout",
          "text": [
            "4206\n",
            "\n"
          ]
        }
      ]
    },
    {
      "cell_type": "code",
      "source": [
        "num=\"35427\"\n",
        "l1 = \"\"\n",
        "l2 = \"\"\n",
        "\n",
        "for i in num:\n",
        "    if int(i) % 2 == 0:\n",
        "        l1+=str(i)\n",
        "    else:\n",
        "        l2+=str(i)\n",
        "\n",
        "print(l1)\n",
        "print(l2)"
      ],
      "metadata": {
        "colab": {
          "base_uri": "https://localhost:8080/"
        },
        "id": "mGZCu7hYsyT5",
        "outputId": "d72d8f04-e9a1-4099-e0c4-04299ec7a210"
      },
      "execution_count": null,
      "outputs": [
        {
          "output_type": "stream",
          "name": "stdout",
          "text": [
            "42\n",
            "357\n"
          ]
        }
      ]
    },
    {
      "cell_type": "code",
      "source": [
        "num=\"35427\"\n",
        "l1 = \"\"\n",
        "l2=\"\"\n",
        "if int(num) % 2 == 0:\n",
        "  l1+=str(i)\n",
        "else:\n",
        "  l2+=str(i)\n",
        "\n",
        "print(l1)\n",
        "print(l2)"
      ],
      "metadata": {
        "colab": {
          "base_uri": "https://localhost:8080/"
        },
        "id": "YQgWSuEBt2y2",
        "outputId": "d45d96f3-8a19-43f6-f550-11fddf6389cc"
      },
      "execution_count": null,
      "outputs": [
        {
          "output_type": "stream",
          "name": "stdout",
          "text": [
            "\n",
            "7\n"
          ]
        }
      ]
    },
    {
      "cell_type": "code",
      "source": [
        "s=\"abcde\"\n",
        "goal=\"cdeab\"\n",
        "if s==goal:\n",
        "  print(True)\n",
        "else:\n",
        "    print(False)"
      ],
      "metadata": {
        "colab": {
          "base_uri": "https://localhost:8080/"
        },
        "id": "WyqyRl58ShF_",
        "outputId": "0939af89-0382-4d0e-9c0d-2cc0dc1ad1ad"
      },
      "execution_count": null,
      "outputs": [
        {
          "output_type": "stream",
          "name": "stdout",
          "text": [
            "False\n"
          ]
        }
      ]
    },
    {
      "cell_type": "code",
      "source": [
        "s=\"abcde\"\n",
        "goal=\"cdeab\"\n",
        "if len(s)==len(Goal):\n",
        "  print(True)\n",
        "else:\n",
        "  print(False)"
      ],
      "metadata": {
        "colab": {
          "base_uri": "https://localhost:8080/"
        },
        "id": "c5gUpKpmU96N",
        "outputId": "c6d9e572-097a-4d7a-ffcd-a9b02cbee17f"
      },
      "execution_count": null,
      "outputs": [
        {
          "output_type": "stream",
          "name": "stdout",
          "text": [
            "True\n"
          ]
        }
      ]
    },
    {
      "cell_type": "code",
      "source": [
        "s=\"abcde\"\n",
        "goal=\"cdeab\"\n"
      ],
      "metadata": {
        "id": "UXY6r2EdUUFQ"
      },
      "execution_count": null,
      "outputs": []
    },
    {
      "cell_type": "code",
      "source": [
        "s=\"abcde\"\n",
        "Goal=\"cdeab\"\n",
        "if s in Goal:\n",
        "  print(True)\n",
        "else:\n",
        "  print(False)"
      ],
      "metadata": {
        "colab": {
          "base_uri": "https://localhost:8080/"
        },
        "id": "PZlNSDHhPHU1",
        "outputId": "b92073fc-29eb-4d55-a7fa-b81442704994"
      },
      "execution_count": null,
      "outputs": [
        {
          "output_type": "stream",
          "name": "stdout",
          "text": [
            "False\n"
          ]
        }
      ]
    },
    {
      "cell_type": "code",
      "source": [
        "s = \"abcde\"\n",
        "Goal = \"abced\"\n",
        "if s in Goal:\n",
        "  print(True)\n",
        "else:\n",
        "  print(False)"
      ],
      "metadata": {
        "colab": {
          "base_uri": "https://localhost:8080/"
        },
        "id": "l9Q8OYf9RwqC",
        "outputId": "ddf6000d-35cc-46a7-d927-408ae9648b82"
      },
      "execution_count": null,
      "outputs": [
        {
          "output_type": "stream",
          "name": "stdout",
          "text": [
            "False\n"
          ]
        }
      ]
    },
    {
      "cell_type": "markdown",
      "source": [
        "OOPS CONCEPTS"
      ],
      "metadata": {
        "id": "XP3aEnx-xbxR"
      }
    },
    {
      "cell_type": "code",
      "source": [
        "s = \"anusssssssha\"\n",
        "s1 = list(s)\n",
        "\n",
        "def pop():\n",
        "    n=\"\"\n",
        "    for i in range(len(s1)):\n",
        "        pe = s1.pop()\n",
        "        n += pe\n",
        "    print(n)\n",
        "\n",
        "pop()\n",
        "\n"
      ],
      "metadata": {
        "id": "y5COOQkVv0hg",
        "outputId": "06a65657-a7b3-457f-cf5c-44fc836226e3",
        "colab": {
          "base_uri": "https://localhost:8080/"
        }
      },
      "execution_count": null,
      "outputs": [
        {
          "output_type": "stream",
          "name": "stdout",
          "text": [
            "ahsssssssuna\n"
          ]
        }
      ]
    },
    {
      "cell_type": "code",
      "source": [
        "stack = []\n",
        "\n",
        "def push():\n",
        "    element = int(input(\"Enter the element: \"))\n",
        "    stack.append(element)\n",
        "    print(stack)\n",
        "\n",
        "def pop_element():\n",
        "    if not stack:\n",
        "        print(\"Stack is empty\")\n",
        "    else:\n",
        "        e = stack.pop()\n",
        "        print(\"Stack element is removed:\", e)\n",
        "        print(stack)\n",
        "\n",
        "while True:\n",
        "    print(\"Select the operation 1.push 2.pop 3.exit\")\n",
        "    choice = int(input())\n",
        "    if choice == 1:\n",
        "        push()\n",
        "    elif choice == 2:\n",
        "        pop_element()\n",
        "    elif choice == 3:\n",
        "        break\n",
        "    else:\n",
        "        print(\"Enter a valid option\")\n"
      ],
      "metadata": {
        "id": "X7UQ6aouxh_7",
        "outputId": "56082356-1388-427f-9dec-3fa4b73485d9",
        "colab": {
          "base_uri": "https://localhost:8080/"
        }
      },
      "execution_count": null,
      "outputs": [
        {
          "name": "stdout",
          "output_type": "stream",
          "text": [
            "Select the operation 1.push 2.pop 3.exit\n",
            "1\n",
            "Enter the element: 2\n",
            "[2]\n",
            "Select the operation 1.push 2.pop 3.exit\n",
            "1\n",
            "Enter the element: 3\n",
            "[2, 3]\n",
            "Select the operation 1.push 2.pop 3.exit\n",
            "1\n",
            "Enter the element: 4\n",
            "[2, 3, 4]\n",
            "Select the operation 1.push 2.pop 3.exit\n",
            "2\n",
            "Stack element is removed: 4\n",
            "[2, 3]\n",
            "Select the operation 1.push 2.pop 3.exit\n",
            "2\n",
            "Stack element is removed: 3\n",
            "[2]\n",
            "Select the operation 1.push 2.pop 3.exit\n",
            "2\n",
            "Stack element is removed: 2\n",
            "[]\n",
            "Select the operation 1.push 2.pop 3.exit\n",
            "3\n"
          ]
        }
      ]
    },
    {
      "cell_type": "code",
      "source": [
        "name = input(\"Enter the Name:\")\n",
        "count = 0\n",
        "\n",
        "for char in name:\n",
        "    count += ord(char) - 64\n",
        "\n",
        "print(count)"
      ],
      "metadata": {
        "id": "U1xJp0MPetHq",
        "outputId": "aa24918f-3daa-4a0f-8141-dddf9eb7dfc7",
        "colab": {
          "base_uri": "https://localhost:8080/"
        }
      },
      "execution_count": null,
      "outputs": [
        {
          "output_type": "stream",
          "name": "stdout",
          "text": [
            "Enter the Name:Anusha\n",
            "224\n"
          ]
        }
      ]
    },
    {
      "cell_type": "code",
      "source": [
        "s=\"Good Morning\"\n",
        "count=[]\n",
        "for i in s:\n",
        "  if i in \"Good Morning\":\n",
        "    count+=i\n",
        "print(count)\n",
        "\n"
      ],
      "metadata": {
        "id": "UpQxdl2oZa8P",
        "outputId": "f226edb5-2bc2-4f92-dca7-0dafad262cc7",
        "colab": {
          "base_uri": "https://localhost:8080/"
        }
      },
      "execution_count": null,
      "outputs": [
        {
          "output_type": "stream",
          "name": "stdout",
          "text": [
            "['G', 'o', 'o', 'd', ' ', 'M', 'o', 'r', 'n', 'i', 'n', 'g']\n"
          ]
        }
      ]
    },
    {
      "cell_type": "code",
      "source": [
        "n=\"Anusha\"\n",
        "s=\"\"\n",
        "for i in range(len(n)):\n",
        "  if i%2==0:\n",
        "    s+=n[i].upper()\n",
        "  else:\n",
        "    s+=n[i].lower()\n",
        "print(s)\n"
      ],
      "metadata": {
        "id": "isGVnl2g4RLU",
        "outputId": "11caf7ab-a3c4-45d5-f6a9-f2e3f6d7869e",
        "colab": {
          "base_uri": "https://localhost:8080/"
        }
      },
      "execution_count": null,
      "outputs": [
        {
          "output_type": "stream",
          "name": "stdout",
          "text": [
            "AnUsHa\n"
          ]
        }
      ]
    },
    {
      "cell_type": "code",
      "source": [
        "\n",
        "print(ord('2'))\n",
        "print(ord('g'))\n",
        "print(ord('&'))"
      ],
      "metadata": {
        "colab": {
          "base_uri": "https://localhost:8080/"
        },
        "id": "QS0Bp-5w8Qun",
        "outputId": "6050f4aa-7862-4bbf-d94a-efdd5cb83f94"
      },
      "execution_count": null,
      "outputs": [
        {
          "output_type": "stream",
          "name": "stdout",
          "text": [
            "50\n",
            "103\n",
            "38\n"
          ]
        }
      ]
    },
    {
      "cell_type": "code",
      "source": [
        "n = \"Anusha\"\n",
        "c = \"\"\n",
        "for i in range(len(n)):\n",
        "    if i % 2 == 0:\n",
        "        c += str(ord(n[i]))\n",
        "    else:\n",
        "        c += n[i]\n",
        "print(c)\n"
      ],
      "metadata": {
        "colab": {
          "base_uri": "https://localhost:8080/"
        },
        "id": "y7knFdv96XqZ",
        "outputId": "96abfb38-9161-422e-9a65-748b2db06553"
      },
      "execution_count": null,
      "outputs": [
        {
          "output_type": "stream",
          "name": "stdout",
          "text": [
            "65n117s104a\n"
          ]
        }
      ]
    },
    {
      "cell_type": "code",
      "source": [
        "s=\"Good_morning\"\n",
        "l=set(sorted(s))\n",
        "l1=l.remove('_')\n",
        "for i in l:\n",
        "  print(i,s.count(i))"
      ],
      "metadata": {
        "id": "LmCljj1EXmrj",
        "outputId": "ef86aff0-484a-49fa-8a0b-69102a41b94d",
        "colab": {
          "base_uri": "https://localhost:8080/"
        }
      },
      "execution_count": null,
      "outputs": [
        {
          "output_type": "stream",
          "name": "stdout",
          "text": [
            "r 1\n",
            "g 1\n",
            "o 3\n",
            "i 1\n",
            "G 1\n",
            "m 1\n",
            "n 2\n",
            "d 1\n"
          ]
        }
      ]
    },
    {
      "cell_type": "code",
      "source": [
        "s=\"Good_Night\"\n",
        "l=set(s)\n",
        "for i in l:\n",
        "  print(i,s.count(i))"
      ],
      "metadata": {
        "id": "jxxv6obgl4o3",
        "outputId": "2ae6c46f-18c1-4efb-c9a0-600392760de6",
        "colab": {
          "base_uri": "https://localhost:8080/"
        }
      },
      "execution_count": null,
      "outputs": [
        {
          "output_type": "stream",
          "name": "stdout",
          "text": [
            "_ 1\n",
            "h 1\n",
            "G 1\n",
            "t 1\n",
            "o 2\n",
            "d 1\n",
            "g 1\n",
            "N 1\n",
            "i 1\n"
          ]
        }
      ]
    },
    {
      "cell_type": "code",
      "source": [
        "n=[4,2,3,7,1,9]\n",
        "c=1\n",
        "for i in range(len(n)):\n",
        "    if n[i]>n[0]:\n",
        "        c+=1\n",
        "print(c)"
      ],
      "metadata": {
        "colab": {
          "base_uri": "https://localhost:8080/"
        },
        "id": "qgLQw2aO4FHQ",
        "outputId": "fa26295e-7807-4306-9ce6-4b1b58892b43"
      },
      "execution_count": null,
      "outputs": [
        {
          "output_type": "stream",
          "name": "stdout",
          "text": [
            "3\n"
          ]
        }
      ]
    },
    {
      "cell_type": "code",
      "source": [
        "s=\"ANUSHA504\"\n",
        "l=\"\"\n",
        "l1=\"\"\n",
        "for i in s:\n",
        "  if i.isalpha():\n",
        "    l+=(str(i))\n",
        "for i in s:\n",
        "  if i in \"AEIOU\":\n",
        "    l1+=(str(i))\n",
        "print(l)\n",
        "print(l1)"
      ],
      "metadata": {
        "id": "tckVghT7Ub7q",
        "outputId": "6e8fec13-66ae-4cc9-ff18-ba520d32a381",
        "colab": {
          "base_uri": "https://localhost:8080/"
        }
      },
      "execution_count": null,
      "outputs": [
        {
          "output_type": "stream",
          "name": "stdout",
          "text": [
            "ANUSHA\n",
            "AUA\n"
          ]
        }
      ]
    },
    {
      "cell_type": "markdown",
      "source": [
        "Find Closest Number to Zero"
      ],
      "metadata": {
        "id": "2aTQJzRh2ygU"
      }
    },
    {
      "cell_type": "code",
      "source": [
        "nums = [-4,-2,1,4,8]\n",
        "l=[]\n",
        "for i in nums:\n",
        "  if i==1:\n",
        "    l.append(i)\n",
        "print(*l)"
      ],
      "metadata": {
        "colab": {
          "base_uri": "https://localhost:8080/"
        },
        "id": "7GXz54HE21qJ",
        "outputId": "bf6778af-2a32-492e-a0e2-e0da40fd1a19"
      },
      "execution_count": null,
      "outputs": [
        {
          "output_type": "stream",
          "name": "stdout",
          "text": [
            "1\n"
          ]
        }
      ]
    },
    {
      "cell_type": "code",
      "source": [
        "nums = [2,-1,1]\n",
        "l=[]\n",
        "for i in nums:\n",
        "  if i==1:\n",
        "    l.append(i)\n",
        "print(l)"
      ],
      "metadata": {
        "colab": {
          "base_uri": "https://localhost:8080/"
        },
        "id": "T3PeL2GA300z",
        "outputId": "9ce12e92-ba91-4d94-ed7f-40af3603c8dd"
      },
      "execution_count": null,
      "outputs": [
        {
          "output_type": "stream",
          "name": "stdout",
          "text": [
            "[1]\n"
          ]
        }
      ]
    },
    {
      "cell_type": "markdown",
      "source": [
        ". Second Largest Digit in a String\n",
        "\n"
      ],
      "metadata": {
        "id": "3CuZ97Fx0zMr"
      }
    },
    {
      "cell_type": "code",
      "source": [
        "s = \"dfa12321afd\"\n",
        "l = []\n",
        "for i in s:\n",
        "  if i.isnumeric():\n",
        "    l.append(int(i))\n",
        "    l = list(set(l))\n",
        "    l.sort()\n",
        "if len(l) >= 2:\n",
        "  print(l[1])\n",
        "else:\n",
        "  print(-1)"
      ],
      "metadata": {
        "colab": {
          "base_uri": "https://localhost:8080/"
        },
        "id": "7-aUqfaS0vMc",
        "outputId": "54b28acd-fb6d-4dc4-89eb-7d7e7db3d696"
      },
      "execution_count": null,
      "outputs": [
        {
          "output_type": "stream",
          "name": "stdout",
          "text": [
            "2\n"
          ]
        }
      ]
    },
    {
      "cell_type": "code",
      "source": [
        "s=\"Anusha504\"\n",
        "l=[]\n",
        "for i in s:\n",
        "  if i.isnumeric():\n",
        "    l.append(int(i))\n",
        "print(l)"
      ],
      "metadata": {
        "id": "hL9x5dBo6JHZ",
        "outputId": "01bbc567-c876-47ac-c4a4-c95a332bfebb",
        "colab": {
          "base_uri": "https://localhost:8080/"
        }
      },
      "execution_count": null,
      "outputs": [
        {
          "output_type": "stream",
          "name": "stdout",
          "text": [
            "[5, 0, 4]\n"
          ]
        }
      ]
    },
    {
      "cell_type": "code",
      "source": [
        "s = \"dfa12321afd\"\n",
        "k = []\n",
        "t = []\n",
        "\n",
        "for char in s:\n",
        "    if char in \"dfa\":\n",
        "        k.append(char)\n",
        "    if char in \"123\":\n",
        "        t.append(char)\n",
        "\n",
        "print(k.clear())\n",
        "print(t)"
      ],
      "metadata": {
        "colab": {
          "base_uri": "https://localhost:8080/"
        },
        "id": "8SfXcsOWmIZz",
        "outputId": "42a3c5ec-058a-4ba7-84d2-15f8948eb100"
      },
      "execution_count": null,
      "outputs": [
        {
          "output_type": "stream",
          "name": "stdout",
          "text": [
            "None\n",
            "['1', '2', '3', '2', '1']\n"
          ]
        }
      ]
    },
    {
      "cell_type": "code",
      "source": [
        "s = \"dfa12321afd\"\n",
        "n1=set(s)\n",
        "k = []\n",
        "for char in n1:\n",
        "    if char in \"123\":\n",
        "       s=k.append(char)\n",
        "       y=sorted(k)\n",
        "print(max(y))\n"
      ],
      "metadata": {
        "colab": {
          "base_uri": "https://localhost:8080/"
        },
        "id": "glRrWd92qBvG",
        "outputId": "64747d99-53dd-4a9b-d03f-92fcf2e54954"
      },
      "execution_count": null,
      "outputs": [
        {
          "output_type": "stream",
          "name": "stdout",
          "text": [
            "3\n"
          ]
        }
      ]
    },
    {
      "cell_type": "code",
      "source": [
        "s = \"dfa12321afd\"\n",
        "l=[]\n",
        "l2=[]\n",
        "for i in s:\n",
        "  if i.isnumeric():\n",
        "    l.append(int(i))\n",
        "    l1=set(l)\n",
        "for i in l1:\n",
        "  l2.append(i)\n",
        "print(l2[-2])\n",
        "\n",
        "\n"
      ],
      "metadata": {
        "colab": {
          "base_uri": "https://localhost:8080/"
        },
        "id": "X1PDhkdFwLI1",
        "outputId": "ace8b587-cfd6-45c0-984d-45b2a304d4d9"
      },
      "execution_count": null,
      "outputs": [
        {
          "output_type": "stream",
          "name": "stdout",
          "text": [
            "2\n"
          ]
        }
      ]
    },
    {
      "cell_type": "code",
      "source": [
        "s = \"dfa12321afd\"\n",
        "n1=set(s)\n",
        "print(list(n1))"
      ],
      "metadata": {
        "colab": {
          "base_uri": "https://localhost:8080/"
        },
        "id": "WD6JYk-6r5U5",
        "outputId": "e82898d0-7d59-46b2-df7f-a1ad25d80ec2"
      },
      "execution_count": null,
      "outputs": [
        {
          "output_type": "stream",
          "name": "stdout",
          "text": [
            "['3', 'd', '1', '2', 'a', 'f']\n"
          ]
        }
      ]
    },
    {
      "cell_type": "code",
      "source": [
        "s = \"dfa12321afd\"\n",
        "n1=set(s)\n",
        "k = []\n",
        "t = []\n",
        "for chars in n1:\n",
        "  if chars.isalpha():\n",
        "    k.append(char)\n",
        "  if chars.isnumeric():\n",
        "    t.append(chars)\n",
        "print(k)\n",
        "print(t)"
      ],
      "metadata": {
        "colab": {
          "base_uri": "https://localhost:8080/"
        },
        "id": "BL9eAdCNmZ4s",
        "outputId": "3b2eb0aa-d36e-4753-8c55-eb5146803903"
      },
      "execution_count": null,
      "outputs": [
        {
          "output_type": "stream",
          "name": "stdout",
          "text": [
            "['d', 'd', 'd']\n",
            "['3', '1', '2']\n"
          ]
        }
      ]
    },
    {
      "cell_type": "code",
      "source": [
        "s = \"dfa12321afd\"\n",
        "n1=set(s)\n",
        "print(n1)"
      ],
      "metadata": {
        "colab": {
          "base_uri": "https://localhost:8080/"
        },
        "id": "SwTpczykolbX",
        "outputId": "883f4ddb-4f76-40e5-c091-3742d4e7e403"
      },
      "execution_count": null,
      "outputs": [
        {
          "output_type": "stream",
          "name": "stdout",
          "text": [
            "{'3', 'd', '1', '2', 'a', 'f'}\n"
          ]
        }
      ]
    },
    {
      "cell_type": "code",
      "source": [
        "for i in range(1,27):\n",
        "    p=i+64\n",
        "    print(chr(p),end=\" \")\n"
      ],
      "metadata": {
        "id": "kNEEtQLyfs__",
        "outputId": "e5745d79-2eaa-4aac-e4df-3ca8447dd9eb",
        "colab": {
          "base_uri": "https://localhost:8080/"
        }
      },
      "execution_count": null,
      "outputs": [
        {
          "output_type": "stream",
          "name": "stdout",
          "text": [
            "A B C D E F G H I J K L M N O P Q R S T U V W X Y Z "
          ]
        }
      ]
    },
    {
      "cell_type": "code",
      "source": [
        "chars = [\"a\",\"a\",\"b\",\"b\",\"c\",\"c\",\"c\"]\n",
        "n1=chars.count(\"a\")\n",
        "n2=chars.count(\"b\")\n",
        "n3=chars.count(\"c\")\n",
        "print(\"a\",n1,\"b\",n2,\"c\",n3)\n"
      ],
      "metadata": {
        "id": "vc2027KXfsn1",
        "outputId": "874b61ee-ec71-4563-c0c5-682ec4f5207a",
        "colab": {
          "base_uri": "https://localhost:8080/"
        }
      },
      "execution_count": null,
      "outputs": [
        {
          "output_type": "stream",
          "name": "stdout",
          "text": [
            "a 2 b 2 c 3\n"
          ]
        }
      ]
    },
    {
      "cell_type": "code",
      "source": [
        "n=['A', 'N', 'U', 'S', 'H', 'A']\n",
        "s=\" \"\n",
        "for i in n:\n",
        "  s+=i\n",
        "print(s)"
      ],
      "metadata": {
        "id": "_LYVBeJzFhjm",
        "outputId": "e8b119e6-9823-463b-e441-f95f65940989",
        "colab": {
          "base_uri": "https://localhost:8080/"
        }
      },
      "execution_count": null,
      "outputs": [
        {
          "output_type": "stream",
          "name": "stdout",
          "text": [
            " ANUSHA\n"
          ]
        }
      ]
    },
    {
      "cell_type": "code",
      "source": [
        "n=['A','N','U','S','H','A']\n",
        "n1=\"\".join(n)\n",
        "print(n1)"
      ],
      "metadata": {
        "id": "8XaIUy0wGUvN",
        "outputId": "d15c1f9c-d805-4dfe-fac9-13515b3f3d11",
        "colab": {
          "base_uri": "https://localhost:8080/"
        }
      },
      "execution_count": null,
      "outputs": [
        {
          "output_type": "stream",
          "name": "stdout",
          "text": [
            "ANUSHA\n"
          ]
        }
      ]
    },
    {
      "cell_type": "code",
      "source": [
        "n=\"ANUSHA\"\n",
        "s=[]\n",
        "for i in n:\n",
        "  s+=i\n",
        "print(s)"
      ],
      "metadata": {
        "id": "KiyKo8dyD8dV",
        "outputId": "99fec8b2-9e44-4be4-cd1a-5b7abb7e0fb1",
        "colab": {
          "base_uri": "https://localhost:8080/"
        }
      },
      "execution_count": null,
      "outputs": [
        {
          "output_type": "stream",
          "name": "stdout",
          "text": [
            "['A', 'N', 'U', 'S', 'H', 'A']\n"
          ]
        }
      ]
    },
    {
      "cell_type": "code",
      "source": [
        "n=\"Anusha\"\n",
        "n1=list(n)\n",
        "print(n1)"
      ],
      "metadata": {
        "id": "Vsur8bR-FWr5",
        "outputId": "fcc3be5a-e0c0-4a7b-e7a8-cb81a7b9e996",
        "colab": {
          "base_uri": "https://localhost:8080/"
        }
      },
      "execution_count": null,
      "outputs": [
        {
          "output_type": "stream",
          "name": "stdout",
          "text": [
            "['A', 'n', 'u', 's', 'h', 'a']\n"
          ]
        }
      ]
    },
    {
      "cell_type": "markdown",
      "source": [
        "Valid Anagram"
      ],
      "metadata": {
        "id": "L3rhQMbxD9Le"
      }
    },
    {
      "cell_type": "code",
      "source": [
        "s =\"anagram\"\n",
        "t =\"nagaram\"\n",
        "p=sorted(list(s))\n",
        "p1=sorted(list(t))\n",
        "if p==p1:\n",
        "  print(\"Valid Anagram\")\n",
        "else:\n",
        "  print(\"Not Valid Anagram\")\n"
      ],
      "metadata": {
        "id": "M2koPTSgD7ek",
        "outputId": "1bdab5dd-9627-458e-b27f-8f5776f440f7",
        "colab": {
          "base_uri": "https://localhost:8080/"
        }
      },
      "execution_count": null,
      "outputs": [
        {
          "output_type": "stream",
          "name": "stdout",
          "text": [
            "Valid Anagram\n"
          ]
        }
      ]
    },
    {
      "cell_type": "code",
      "source": [
        "k=input()\n",
        "s=\"Good Morning\"\n",
        "n1=s.upper()\n",
        "if k in n1:\n",
        "  print(n1.count(k))\n",
        "else:\n",
        "  print(0)"
      ],
      "metadata": {
        "id": "5xQzuDIrunXR",
        "colab": {
          "base_uri": "https://localhost:8080/"
        },
        "outputId": "b2798dc7-44b6-48c3-af9f-b39821d3f53f"
      },
      "execution_count": null,
      "outputs": [
        {
          "output_type": "stream",
          "name": "stdout",
          "text": [
            "o\n",
            "0\n"
          ]
        }
      ]
    },
    {
      "cell_type": "code",
      "source": [
        "k=input()\n",
        "s=\"Good Morning\"\n",
        "if k in s:\n",
        "  print(s.count(k))\n",
        "else:\n",
        "  print(0)"
      ],
      "metadata": {
        "colab": {
          "base_uri": "https://localhost:8080/"
        },
        "id": "1P0a4Y6N7MG_",
        "outputId": "1f3ce8ea-bfc3-4613-c23c-c8da68957af0"
      },
      "execution_count": null,
      "outputs": [
        {
          "output_type": "stream",
          "name": "stdout",
          "text": [
            "G\n",
            "1\n"
          ]
        }
      ]
    },
    {
      "cell_type": "code",
      "source": [
        "S=\"Good Morning\"\n",
        "count=\"\"\n",
        "for i in range(len(s)):\n",
        "  if i \"Good Morning\":\n",
        "    count+=i\n",
        "print(count)"
      ],
      "metadata": {
        "id": "BDQ5WqwKhvMl",
        "outputId": "53112182-0d04-404f-ad18-5898e1a48bcc",
        "colab": {
          "base_uri": "https://localhost:8080/",
          "height": 140
        }
      },
      "execution_count": null,
      "outputs": [
        {
          "output_type": "error",
          "ename": "SyntaxError",
          "evalue": "ignored",
          "traceback": [
            "\u001b[0;36m  File \u001b[0;32m\"<ipython-input-57-8b5424d62a94>\"\u001b[0;36m, line \u001b[0;32m4\u001b[0m\n\u001b[0;31m    if i \"Good Morning\":\u001b[0m\n\u001b[0m         ^\u001b[0m\n\u001b[0;31mSyntaxError\u001b[0m\u001b[0;31m:\u001b[0m invalid syntax\n"
          ]
        }
      ]
    },
    {
      "cell_type": "markdown",
      "source": [
        "1550. Three Consecutive Odds"
      ],
      "metadata": {
        "id": "CMD-JnLVuoHy"
      }
    },
    {
      "cell_type": "code",
      "source": [
        "arr = [1,2,34,3,4,5,7,23,12]\n",
        "for i in arr:\n",
        "  if i%2==1:\n",
        "    print(\"True\")\n"
      ],
      "metadata": {
        "id": "WtXEx9XlrVgm",
        "outputId": "1d5fad7d-bde7-43de-a2c4-874fb29039f1",
        "colab": {
          "base_uri": "https://localhost:8080/"
        }
      },
      "execution_count": null,
      "outputs": [
        {
          "output_type": "stream",
          "name": "stdout",
          "text": [
            "True\n",
            "True\n",
            "True\n",
            "True\n",
            "True\n"
          ]
        }
      ]
    },
    {
      "cell_type": "markdown",
      "source": [
        "ADD TWO STRINGS"
      ],
      "metadata": {
        "id": "FUjCwx5eOP7z"
      }
    },
    {
      "cell_type": "code",
      "source": [
        "nums1=\"11\"\n",
        "nums2=\"123\"\n",
        "s=int(nums2)\n",
        "s1=int(nums1)\n",
        "s3=s+s1\n",
        "n=str(s3)\n",
        "print(n)"
      ],
      "metadata": {
        "colab": {
          "base_uri": "https://localhost:8080/"
        },
        "id": "jpBJFX9_IYOy",
        "outputId": "a51e6798-2fdc-409e-a1be-1892668bf9b0"
      },
      "execution_count": null,
      "outputs": [
        {
          "output_type": "stream",
          "name": "stdout",
          "text": [
            "134\n"
          ]
        }
      ]
    },
    {
      "cell_type": "markdown",
      "source": [
        "Missing number"
      ],
      "metadata": {
        "id": "QcwyhacFOeqF"
      }
    },
    {
      "cell_type": "code",
      "source": [
        "n=[1,3,0]\n",
        "k=0\n",
        "for i in range(len(n)+1):\n",
        "  if i not in n:\n",
        "    k+=i\n",
        "    print(k)"
      ],
      "metadata": {
        "id": "6vkBuAe5GDWh"
      },
      "execution_count": null,
      "outputs": []
    },
    {
      "cell_type": "code",
      "source": [
        "n=[3,0,1]\n",
        "s=0\n",
        "n1=sorted(n)\n",
        "for i in range(len(n)+1):\n",
        "  if i not in n:\n",
        "    s+=i\n",
        "print(s)"
      ],
      "metadata": {
        "id": "_uYK3DbZN2EP",
        "colab": {
          "base_uri": "https://localhost:8080/"
        },
        "outputId": "9d51a01c-6806-4ecc-c5b4-901bba948989"
      },
      "execution_count": null,
      "outputs": [
        {
          "output_type": "stream",
          "name": "stdout",
          "text": [
            "2\n"
          ]
        }
      ]
    },
    {
      "cell_type": "code",
      "source": [
        "nums=[9,6,4,2,3,5,7,0,1]\n",
        "s=0\n",
        "for i in range(len(nums)+1):\n",
        "  if i not in nums:\n",
        "    s+=i\n",
        "    print(s)\n",
        "\n"
      ],
      "metadata": {
        "colab": {
          "base_uri": "https://localhost:8080/"
        },
        "id": "Gg0QznLEGjll",
        "outputId": "4fa844d3-790b-4360-a99a-ef17549a71fc"
      },
      "execution_count": null,
      "outputs": [
        {
          "output_type": "stream",
          "name": "stdout",
          "text": [
            "8\n"
          ]
        }
      ]
    },
    {
      "cell_type": "code",
      "source": [
        "class Solution:\n",
        "    def isPowerOfTwo(self, n: int) -> bool:\n",
        "        if n <= 0:\n",
        "            return False\n",
        "        while n > 1:\n",
        "            if n % 2 != 0:\n",
        "                return False\n",
        "            n = n // 2\n",
        "        return True"
      ],
      "metadata": {
        "id": "3E3GOZTDNQkD"
      },
      "execution_count": null,
      "outputs": []
    },
    {
      "cell_type": "code",
      "source": [
        "def is_power_of_two(n):\n",
        "    # Check if the number is positive\n",
        "    if n <= 0:\n",
        "        return False\n",
        "\n",
        "    # Keep dividing the number by 2 until it becomes 1\n",
        "    while n > 1:\n",
        "        # If n is not divisible by 2 (i.e., it's not an even number),\n",
        "        # it can't be a power of two\n",
        "        if n % 2 != 0:\n",
        "            return False\n",
        "        n = n // 2  # Integer division by 2\n",
        "\n",
        "    # If n becomes 1, it's a power of two\n",
        "    return True\n",
        "\n",
        "# Test cases\n",
        "print(is_power_of_two(1))   # True, 2^0 = 1\n",
        "print(is_power_of_two(2))   # True, 2^1 = 2\n",
        "print(is_power_of_two(16))  # True, 2^4 = 16\n",
        "print(is_power_of_two(3))   # False\n",
        "print(is_power_of_two(0))   # False\n",
        "print(is_power_of_two(-8))  # False"
      ],
      "metadata": {
        "colab": {
          "base_uri": "https://localhost:8080/"
        },
        "id": "RSnLtcjAAvzb",
        "outputId": "87f6b60b-df81-48fa-b7e1-c62968d9aca9"
      },
      "execution_count": null,
      "outputs": [
        {
          "output_type": "stream",
          "name": "stdout",
          "text": [
            "True\n",
            "True\n",
            "True\n",
            "False\n",
            "False\n",
            "False\n"
          ]
        }
      ]
    },
    {
      "cell_type": "markdown",
      "source": [
        "power of two"
      ],
      "metadata": {
        "id": "QqwgTfuJ8dvd"
      }
    },
    {
      "cell_type": "code",
      "source": [
        "n=[16,6,8]\n",
        "for i in n:\n",
        "  if i%2==0:\n",
        "    print(i)"
      ],
      "metadata": {
        "colab": {
          "base_uri": "https://localhost:8080/"
        },
        "id": "2QNbm-fi8dAQ",
        "outputId": "fb7dd456-f0f9-4082-c48b-b9f884d898d2"
      },
      "execution_count": null,
      "outputs": [
        {
          "output_type": "stream",
          "name": "stdout",
          "text": [
            "16\n",
            "6\n",
            "8\n"
          ]
        }
      ]
    },
    {
      "cell_type": "code",
      "source": [
        " s = \"1 box has 3 blue 4 red 6 green and 12 yellow marbles\"\n",
        " s=len(s)\n",
        " if s<53:\n",
        "  print(\"True\")\n",
        " else:\n",
        "  print(\"False\")"
      ],
      "metadata": {
        "colab": {
          "base_uri": "https://localhost:8080/"
        },
        "id": "NF6xX-QUzK7d",
        "outputId": "828d6aba-5a1b-4448-e822-8eab065d33d3"
      },
      "execution_count": null,
      "outputs": [
        {
          "output_type": "stream",
          "name": "stdout",
          "text": [
            "True\n"
          ]
        }
      ]
    },
    {
      "cell_type": "markdown",
      "source": [
        " Finding 3-Digit Even Numbers"
      ],
      "metadata": {
        "id": "TmCrLV91ytp7"
      }
    },
    {
      "cell_type": "code",
      "source": [
        "n=[2,1,3,0]\n",
        "v=[]\n",
        "for i in n:\n",
        "  print(i)"
      ],
      "metadata": {
        "colab": {
          "base_uri": "https://localhost:8080/"
        },
        "id": "MAFTOcBBx9X3",
        "outputId": "c933fe61-6a01-4024-c6fd-4e791ecb4aa0"
      },
      "execution_count": null,
      "outputs": [
        {
          "output_type": "stream",
          "name": "stdout",
          "text": [
            "2\n",
            "1\n",
            "3\n",
            "0\n"
          ]
        }
      ]
    },
    {
      "cell_type": "code",
      "source": [
        "n=[2,2,1]\n",
        "c=0\n",
        "for i in n:\n",
        "  v=n.count(i)\n",
        "  if v<2:\n",
        "    print(i,\"is a lonely number\")"
      ],
      "metadata": {
        "id": "qVxKXLGdTiZG",
        "colab": {
          "base_uri": "https://localhost:8080/"
        },
        "outputId": "1cc1de89-1a91-424a-9496-ba57fe7e6893"
      },
      "execution_count": null,
      "outputs": [
        {
          "output_type": "stream",
          "name": "stdout",
          "text": [
            "1 is a lonely number\n"
          ]
        }
      ]
    },
    {
      "cell_type": "markdown",
      "source": [
        "FOR LOOP"
      ],
      "metadata": {
        "id": "-aT05s0FSl1t"
      }
    },
    {
      "cell_type": "code",
      "source": [
        "n=[12,3,54,45,5]\n",
        "for i in range(1,len(n),2):\n",
        "  print(i)"
      ],
      "metadata": {
        "colab": {
          "base_uri": "https://localhost:8080/"
        },
        "id": "8Er8WSU1SOFH",
        "outputId": "ce00c8e0-0bf1-4248-aac6-629f9bd2b1f2"
      },
      "execution_count": null,
      "outputs": [
        {
          "output_type": "stream",
          "name": "stdout",
          "text": [
            "1\n",
            "3\n"
          ]
        }
      ]
    },
    {
      "cell_type": "code",
      "source": [
        "n=[1,2,3,4,43]\n",
        "for i in range(1,len(n)):\n",
        "  print(i)"
      ],
      "metadata": {
        "colab": {
          "base_uri": "https://localhost:8080/"
        },
        "id": "FDGAtwhPSAee",
        "outputId": "f4520f88-7951-45ff-9c44-555b9d73c9ad"
      },
      "execution_count": null,
      "outputs": [
        {
          "output_type": "stream",
          "name": "stdout",
          "text": [
            "1\n",
            "2\n",
            "3\n",
            "4\n"
          ]
        }
      ]
    },
    {
      "cell_type": "code",
      "source": [
        "n=[1,23,434,55]\n",
        "for i in range(len(n)):\n",
        "  print(i)"
      ],
      "metadata": {
        "colab": {
          "base_uri": "https://localhost:8080/"
        },
        "id": "dk4sb9CORwXC",
        "outputId": "12b244e7-e6ce-4489-de1a-9525dccc2dfc"
      },
      "execution_count": null,
      "outputs": [
        {
          "output_type": "stream",
          "name": "stdout",
          "text": [
            "0\n",
            "1\n",
            "2\n",
            "3\n"
          ]
        }
      ]
    },
    {
      "cell_type": "code",
      "source": [
        "n=[1,233,34,5]\n",
        "for i in n:\n",
        "  print(i)"
      ],
      "metadata": {
        "colab": {
          "base_uri": "https://localhost:8080/"
        },
        "id": "fVVuQ5BLRfP1",
        "outputId": "bd8e4f52-5dcc-475d-d87a-97f55c5d3dcd"
      },
      "execution_count": null,
      "outputs": [
        {
          "output_type": "stream",
          "name": "stdout",
          "text": [
            "1\n",
            "233\n",
            "34\n",
            "5\n"
          ]
        }
      ]
    },
    {
      "cell_type": "code",
      "source": [
        "for x in range(6):\n",
        "  print(x)"
      ],
      "metadata": {
        "id": "XWeuSi9jTEQi",
        "outputId": "ab8dcc54-9689-4dbf-ef97-ac6c47657761",
        "colab": {
          "base_uri": "https://localhost:8080/"
        }
      },
      "execution_count": null,
      "outputs": [
        {
          "output_type": "stream",
          "name": "stdout",
          "text": [
            "0\n",
            "1\n",
            "2\n",
            "3\n",
            "4\n",
            "5\n"
          ]
        }
      ]
    },
    {
      "cell_type": "markdown",
      "source": [
        "REMOVE DUPLICATES FROM SORTED ARRAY"
      ],
      "metadata": {
        "id": "MmaWosXopmwJ"
      }
    },
    {
      "cell_type": "code",
      "source": [
        "n=[1,1,2]\n",
        "n1=set(n)\n",
        "n2=list(n1)\n",
        "print(n2)"
      ],
      "metadata": {
        "id": "h2tvHMiTnUlb",
        "outputId": "8c2c0a10-7229-4c77-b1dd-4a2eac41ffbc",
        "colab": {
          "base_uri": "https://localhost:8080/"
        }
      },
      "execution_count": null,
      "outputs": [
        {
          "output_type": "stream",
          "name": "stdout",
          "text": [
            "[1, 2]\n"
          ]
        }
      ]
    },
    {
      "cell_type": "code",
      "source": [
        "n=[1,1,2]\n",
        "n1=set(n)\n",
        "n2=list(n1)\n",
        "n3=len(n2)\n",
        "print(n3)"
      ],
      "metadata": {
        "id": "Xh0dIAGFm7lt",
        "outputId": "76bcb0b7-1509-4dd5-f508-f9c68047d7d4",
        "colab": {
          "base_uri": "https://localhost:8080/"
        }
      },
      "execution_count": null,
      "outputs": [
        {
          "output_type": "stream",
          "name": "stdout",
          "text": [
            "2\n"
          ]
        }
      ]
    },
    {
      "cell_type": "markdown",
      "source": [
        "ADD ONE"
      ],
      "metadata": {
        "id": "HQLqhpoGpw2c"
      }
    },
    {
      "cell_type": "code",
      "source": [
        "n=[1,2,3]\n",
        "n1=n[-1]\n",
        "n2=n1+1\n",
        "n.remove(n1)\n",
        "n.append(n2)\n",
        "print(n)"
      ],
      "metadata": {
        "id": "Tuoc2aL6flFB",
        "outputId": "97ba75b0-ff02-4385-e75c-3cf3da67c604",
        "colab": {
          "base_uri": "https://localhost:8080/"
        }
      },
      "execution_count": null,
      "outputs": [
        {
          "output_type": "stream",
          "name": "stdout",
          "text": [
            "[1, 2, 4]\n"
          ]
        }
      ]
    },
    {
      "cell_type": "code",
      "source": [
        "n=int(input(\"Enter a number:\"))\n",
        "if n>0:\n",
        "  print(\"Positive number\")\n",
        "else:\n",
        "  print(\"negative number\")"
      ],
      "metadata": {
        "id": "a4KG8fTRHgLu",
        "outputId": "6f7db4c1-4f43-4c02-cf92-e91028cdd6a0",
        "colab": {
          "base_uri": "https://localhost:8080/"
        }
      },
      "execution_count": null,
      "outputs": [
        {
          "output_type": "stream",
          "name": "stdout",
          "text": [
            "Enter a number:8\n",
            "Positive number\n"
          ]
        }
      ]
    },
    {
      "cell_type": "markdown",
      "source": [
        "Sum of natural number :1,2,3,4,5,6,7,8,9,10\n",
        "  1+2+3+4+5+6+7+8+9+10=55\n",
        "\n"
      ],
      "metadata": {
        "id": "kPt7mEh4tmTy"
      }
    },
    {
      "cell_type": "code",
      "source": [
        "l = []\n",
        "sum = 0\n",
        "for i in range(1, 11):\n",
        "    l.append(i)\n",
        "    sum = sum + i\n",
        "if i == sum:\n",
        "  print(\"Natural number\")\n",
        "else:\n",
        "  print(\"Not a natural num ber\")"
      ],
      "metadata": {
        "colab": {
          "base_uri": "https://localhost:8080/"
        },
        "id": "6WhTxHpUuOe0",
        "outputId": "6b8d5ddc-359f-44e3-f230-df34d84bdbdb"
      },
      "execution_count": null,
      "outputs": [
        {
          "output_type": "stream",
          "name": "stdout",
          "text": [
            "Not a natural number\n"
          ]
        }
      ]
    },
    {
      "cell_type": "code",
      "source": [
        "n=int(input(\"Enter a number:\"))\n",
        "sum=1\n",
        "for i in range(1+n):\n",
        "  sum=sum+i\n",
        "  print(sum)"
      ],
      "metadata": {
        "colab": {
          "base_uri": "https://localhost:8080/"
        },
        "id": "R_llm-5YwK0h",
        "outputId": "c95be244-79b7-4d36-f533-267c17e35d68"
      },
      "execution_count": null,
      "outputs": [
        {
          "output_type": "stream",
          "name": "stdout",
          "text": [
            "Enter a number:5\n",
            "1\n",
            "2\n",
            "4\n",
            "7\n",
            "11\n",
            "16\n"
          ]
        }
      ]
    },
    {
      "cell_type": "code",
      "source": [
        "n=int(input())\n",
        "s=0\n",
        "for i in range(1,n+1):\n",
        "  s=s+i\n",
        "print(s)"
      ],
      "metadata": {
        "id": "L5E_YAsgoECS",
        "outputId": "8690890f-6120-4634-8a0f-2716d1d61e63",
        "colab": {
          "base_uri": "https://localhost:8080/"
        }
      },
      "execution_count": null,
      "outputs": [
        {
          "output_type": "stream",
          "name": "stdout",
          "text": [
            "5\n",
            "15\n"
          ]
        }
      ]
    },
    {
      "cell_type": "markdown",
      "source": [
        "3 rd maximum number:"
      ],
      "metadata": {
        "id": "ptSC6oV5CMCT"
      }
    },
    {
      "cell_type": "code",
      "source": [
        "num = [5, 6, 7, 10]\n",
        "\n",
        "if len(num) <= 2:\n",
        "    k = len(num)\n",
        "    p1 = max(num)\n",
        "    num.remove(p1)\n",
        "    p2 = max(num)\n",
        "    num.remove(p2)\n",
        "    print(max(num))\n",
        "else:\n",
        "    print(\"Not a maximum number\")"
      ],
      "metadata": {
        "colab": {
          "base_uri": "https://localhost:8080/"
        },
        "id": "X8U9kRn3CU7S",
        "outputId": "6b83fd79-af30-496e-8995-afceb29a69b5"
      },
      "execution_count": null,
      "outputs": [
        {
          "output_type": "stream",
          "name": "stdout",
          "text": [
            "Not a maximum number\n"
          ]
        }
      ]
    },
    {
      "cell_type": "markdown",
      "source": [
        "Happy number"
      ],
      "metadata": {
        "id": "K2n4JTiOAqtE"
      }
    },
    {
      "cell_type": "code",
      "source": [
        "n = 19\n",
        "\n",
        "while n > 5:\n",
        "    s = 0\n",
        "    while n != 0:\n",
        "        r = n % 10\n",
        "        s = s + r ** 2\n",
        "        n = n // 10\n",
        "    n = s\n",
        "\n",
        "if s == 1:\n",
        "    print(\"HAPPY NUMBER\")\n",
        "else:\n",
        "    print(\"NOT HAPPY NUMBER\")"
      ],
      "metadata": {
        "colab": {
          "base_uri": "https://localhost:8080/"
        },
        "id": "imzoE_IEAfqf",
        "outputId": "3243ea9a-5ceb-48c2-8ef7-25162131b175"
      },
      "execution_count": null,
      "outputs": [
        {
          "output_type": "stream",
          "name": "stdout",
          "text": [
            "HAPPY NUMBER\n"
          ]
        }
      ]
    },
    {
      "cell_type": "markdown",
      "source": [
        "Marriage number:   "
      ],
      "metadata": {
        "id": "96j3DrFtmkw3"
      }
    },
    {
      "cell_type": "markdown",
      "source": [
        "Strong number:   \n",
        "n=145  \n",
        "1!+4!+5!   \n",
        "1+24+120=145"
      ],
      "metadata": {
        "id": "oA6bzB53tjGm"
      }
    },
    {
      "cell_type": "code",
      "source": [
        "n = int(input())\n",
        "original_n = n\n",
        "strong_sum = 0\n",
        "\n",
        "while n:\n",
        "    i = 1\n",
        "    rem = n % 10\n",
        "    fact = 1\n",
        "\n",
        "    while i <= rem:\n",
        "        fact *= i\n",
        "        i += 1\n",
        "\n",
        "    strong_sum += fact\n",
        "    n = n // 10\n",
        "\n",
        "if strong_sum == original_n:\n",
        "    print(\"Strong number\")\n",
        "else:\n",
        "    print(\"Not a strong number\")"
      ],
      "metadata": {
        "id": "y0TVK5douAkm",
        "colab": {
          "base_uri": "https://localhost:8080/"
        },
        "outputId": "08a0b3c4-1208-4575-ab52-c99bfb1ed492"
      },
      "execution_count": null,
      "outputs": [
        {
          "output_type": "stream",
          "name": "stdout",
          "text": [
            "145\n",
            "Strong number\n"
          ]
        }
      ]
    },
    {
      "cell_type": "markdown",
      "source": [
        "Palindrome number:151,dad,nom,101"
      ],
      "metadata": {
        "id": "9Fu5z5Rt4JGr"
      }
    },
    {
      "cell_type": "code",
      "source": [
        "n=input()\n",
        "print(n[::-1])\n",
        "if(n[::]==n[::-1]):\n",
        "    print(\"Pallindrome\")\n",
        "else:\n",
        "   print(\"Not pallindrome\")"
      ],
      "metadata": {
        "colab": {
          "base_uri": "https://localhost:8080/"
        },
        "id": "FA0Rn8TN3-Ds",
        "outputId": "0067d79b-bf7c-4aed-9f33-3447688839e4"
      },
      "execution_count": null,
      "outputs": [
        {
          "output_type": "stream",
          "name": "stdout",
          "text": [
            "151\n",
            "151\n",
            "Pallindrome\n"
          ]
        }
      ]
    },
    {
      "cell_type": "markdown",
      "source": [
        "wap find out the month"
      ],
      "metadata": {
        "id": "_Ks4w7tu46o8"
      }
    },
    {
      "cell_type": "code",
      "source": [
        "m=int(input(\"enter month\"))\n",
        "if m==2:\n",
        "  print(\"28days\")\n",
        "elif m in[1,3,5,7,8,10,12]:\n",
        "  print(\"31 days\")\n",
        "else:\n",
        "   print(\"30 days\")"
      ],
      "metadata": {
        "colab": {
          "base_uri": "https://localhost:8080/"
        },
        "id": "PqoTFWbv4k4h",
        "outputId": "48c13f9f-c7ae-4506-b6d4-b470e39f7ab3"
      },
      "execution_count": null,
      "outputs": [
        {
          "output_type": "stream",
          "name": "stdout",
          "text": [
            "enter month7\n",
            "31 days\n"
          ]
        }
      ]
    },
    {
      "cell_type": "markdown",
      "source": [
        "Hailstone series"
      ],
      "metadata": {
        "id": "yAsYDC7J5H6k"
      }
    },
    {
      "cell_type": "code",
      "source": [
        "no = int(input(\"Enter a number:\"))\n",
        "\n",
        "while no != 1:\n",
        "    print(no)\n",
        "    if no % 2 == 0:\n",
        "        no = no // 2\n",
        "    else:\n",
        "        no = no * 3 + 1\n",
        "\n",
        "print(no)  # Print the final value of 'no' after the loop"
      ],
      "metadata": {
        "colab": {
          "base_uri": "https://localhost:8080/"
        },
        "id": "hc7LAOZO5I8M",
        "outputId": "51f96bcf-12da-4fbb-b073-e3d668960f41"
      },
      "execution_count": null,
      "outputs": [
        {
          "output_type": "stream",
          "name": "stdout",
          "text": [
            "Enter a number:10\n",
            "10\n",
            "5\n",
            "16\n",
            "8\n",
            "4\n",
            "2\n",
            "1\n"
          ]
        }
      ]
    },
    {
      "cell_type": "markdown",
      "source": [
        "perfect number:  \n",
        "n=28  \n",
        "1 to 28   \n",
        "28 remainders 1,2,4,7,14   \n",
        "sum of all divisors (n1) 1+2+4+7+14=28     \n",
        "n==n1\n"
      ],
      "metadata": {
        "id": "5rzYhS2TppPR"
      }
    },
    {
      "cell_type": "code",
      "source": [
        "n = int(input())\n",
        "s = 0\n",
        "for i in range(1, n):\n",
        "    if n % i == 0:\n",
        "        s = s + i\n",
        "if s == n:\n",
        "    print(\"Perfect number\")\n",
        "else:\n",
        "    print(\"Not a perfect number\")"
      ],
      "metadata": {
        "colab": {
          "base_uri": "https://localhost:8080/"
        },
        "id": "mxPqrKclsWIm",
        "outputId": "d0088eb0-bf83-4490-ae52-a6790e3f2ba2"
      },
      "execution_count": null,
      "outputs": [
        {
          "output_type": "stream",
          "name": "stdout",
          "text": [
            "28\n",
            "Perfect number\n"
          ]
        }
      ]
    },
    {
      "cell_type": "markdown",
      "source": [
        "Strong number:"
      ],
      "metadata": {
        "id": "qvcGA0ZXzw9i"
      }
    },
    {
      "cell_type": "markdown",
      "source": [
        "Amicable Numbers:220,284   \n",
        "220 divisors 1,2,4,5,10,11,22,44,55,110  \n",
        "sum of divisors 1+2+4+5+10+11+22+44+55+110=284  \n",
        "284 divisors 1,2,4,71,142   \n",
        "sum of divisors 1+2+4+71+142=220    \n",
        "sum of all amicable numbers fron 1 to 999\n",
        "220+284=504"
      ],
      "metadata": {
        "id": "4A4SmwJYhONb"
      }
    },
    {
      "cell_type": "code",
      "source": [
        "n1=int(input())\n",
        "n2=int(input())\n",
        "s1=0\n",
        "s2=0\n",
        "for i in range(1,n1):\n",
        "  if n%i==0:\n",
        "    s1=s1+i\n",
        "for j in range(1,n2):\n",
        "  if n%j==0:\n",
        "    s2=s2+i\n",
        "if n1%s1 and n2%s2:\n",
        "  print(\"Amicable number:\")\n",
        "else:\n",
        "  print(\"Not amicable number\")"
      ],
      "metadata": {
        "colab": {
          "base_uri": "https://localhost:8080/"
        },
        "id": "vg9151Xrjl68",
        "outputId": "2c14fd45-b74b-4f72-ca27-ee3107b7538c"
      },
      "execution_count": null,
      "outputs": [
        {
          "output_type": "stream",
          "name": "stdout",
          "text": [
            "220\n",
            "284\n",
            "Amicable number:\n"
          ]
        }
      ]
    },
    {
      "cell_type": "markdown",
      "source": [
        "Abundant Number(n)28 remainders 1,2,3,4,7,8,12 add all elemtents result will be n2=35     \n",
        "n>n2"
      ],
      "metadata": {
        "id": "mHXwZzrcb6iI"
      }
    },
    {
      "cell_type": "code",
      "source": [
        "n = int(input())\n",
        "s = 0\n",
        "\n",
        "for i in range(1, n):\n",
        "    if n % i == 0:\n",
        "        s = s + i\n",
        "\n",
        "if n >= s:\n",
        "    print(\"Abundant number\")\n",
        "else:\n",
        "    print(\"Not abundant number\")\n"
      ],
      "metadata": {
        "colab": {
          "base_uri": "https://localhost:8080/"
        },
        "id": "C3zBB1I_dpOt",
        "outputId": "b8d8ea42-8a6b-4912-ec52-c91b2607b850"
      },
      "execution_count": null,
      "outputs": [
        {
          "output_type": "stream",
          "name": "stdout",
          "text": [
            "28\n",
            "Abundant number\n"
          ]
        }
      ]
    },
    {
      "cell_type": "markdown",
      "source": [
        "Automorphic Number:  \n",
        "n=5 , n1(sqr)=25 ,,n(5)==last digit(n2)"
      ],
      "metadata": {
        "id": "6cUTxblaaloM"
      }
    },
    {
      "cell_type": "code",
      "source": [
        "n=int(input())\n",
        "temp=n\n",
        "n2=n*n\n",
        "p=len(str(n))\n",
        "n3=str(n2)\n",
        "n4=n3[p:]\n",
        "if int(n4)==temp:\n",
        "  print(\"Automorphic number\")\n",
        "else:\n",
        "  print(\"Not automorpic number\")\n"
      ],
      "metadata": {
        "colab": {
          "base_uri": "https://localhost:8080/"
        },
        "id": "5p-Mna-PbIY9",
        "outputId": "9503d445-4cdf-43c1-e29f-68ede361cd25"
      },
      "execution_count": null,
      "outputs": [
        {
          "output_type": "stream",
          "name": "stdout",
          "text": [
            "5\n",
            "Automorphic number\n"
          ]
        }
      ]
    },
    {
      "cell_type": "markdown",
      "source": [
        "trinagle number:1,2,3,4,5,6,7,8,9,10    \n",
        "1,1+2=3,3+3=6,6+4=10,10+5=15,15+6=21,21+7=28,........"
      ],
      "metadata": {
        "id": "l4kivWt_ERTG"
      }
    },
    {
      "cell_type": "code",
      "source": [
        "n=int(input())\n",
        "k=[1,3]\n",
        "c=3\n",
        "for i in range(3,n+1):\n",
        "  v=c+i\n",
        "  k.append(v)\n",
        "  c==v\n",
        "if n in k:\n",
        "  print(\"Triangle number\")\n",
        "else:\n",
        "  print(\"Not triangle number\")"
      ],
      "metadata": {
        "id": "Bd39CYctEZCx",
        "outputId": "25d8a7cc-c837-4d90-9aa0-74f3b82484f0",
        "colab": {
          "base_uri": "https://localhost:8080/"
        }
      },
      "execution_count": null,
      "outputs": [
        {
          "output_type": "stream",
          "name": "stdout",
          "text": [
            "10\n",
            "Triangle number\n"
          ]
        }
      ]
    },
    {
      "cell_type": "markdown",
      "source": [
        "Sociable number n :4,4,4,4   \n",
        "4 remainders 1,2,=1+2=3 is==n 1st digit\n",
        " 2 nd 4 remainders 1,2 =1+2=3 is ==n 3rd digit   \n",
        " 3 rd 4 remainders 1,2 =1+2 is ==n 4th digit\n"
      ],
      "metadata": {
        "id": "K1s5azbPCXlf"
      }
    },
    {
      "cell_type": "code",
      "source": [
        "n1=int(input())\n",
        "n2=int(input())\n",
        "n3=int(input())\n",
        "n4=int(input())\n",
        "s=0\n",
        "s1=0\n",
        "s3=0\n",
        "s4=0\n",
        "for i in range(1,n1):\n",
        "  if n1%i==0:\n",
        "    s=s+i\n",
        "for i in range(1,n2):\n",
        "  if n2%i==0:\n",
        "    s1=s1+1\n",
        "for i in range(1,n3):\n",
        "  if n3%i==0:\n",
        "    s3=s3+1\n",
        "for i in range(1,n4):\n",
        "  if n4%i==0:\n",
        "    s4=s4+1\n",
        "if n1%s and n2%s1 and n3%s3 and n4%s4:\n",
        "  print(\"Sociable number\")\n",
        "else:\n",
        "  print(\"Not sociable number\")"
      ],
      "metadata": {
        "id": "gb4Bfeqj2sXN",
        "outputId": "6f3ff1b2-c1f9-406c-a9b5-91e4c16b6090",
        "colab": {
          "base_uri": "https://localhost:8080/"
        }
      },
      "execution_count": null,
      "outputs": [
        {
          "output_type": "stream",
          "name": "stdout",
          "text": [
            "4\n",
            "4\n",
            "4\n",
            "4\n",
            "Not sociable number\n"
          ]
        }
      ]
    },
    {
      "cell_type": "markdown",
      "source": [
        "two sum\n",
        "n==target"
      ],
      "metadata": {
        "id": "xJiO3_wR2uoi"
      }
    },
    {
      "cell_type": "code",
      "source": [
        "n=[2,7,30,30]\n",
        "target=9\n",
        "for i in range(len(n)):\n",
        "  for j in range(i+1,len(n)):\n",
        "    if n[i]+n[j]==target:\n",
        "      print(i,j)\n",
        "      break"
      ],
      "metadata": {
        "colab": {
          "base_uri": "https://localhost:8080/"
        },
        "id": "QPbR0u9S2Dv8",
        "outputId": "9190b579-b67e-4372-d1ca-fb29b14a60af"
      },
      "execution_count": null,
      "outputs": [
        {
          "output_type": "stream",
          "name": "stdout",
          "text": [
            "0 1\n"
          ]
        }
      ]
    },
    {
      "cell_type": "markdown",
      "source": [],
      "metadata": {
        "id": "MYtqePCdAVlG"
      }
    },
    {
      "cell_type": "code",
      "source": [
        "n1=\"123\"\n",
        "n2=\"139\"\n",
        "l1=int(n1)\n",
        "l2=int(n2)\n",
        "l=l1+l2\n",
        "print(l)"
      ],
      "metadata": {
        "colab": {
          "base_uri": "https://localhost:8080/"
        },
        "id": "-WZEdeZdAXuX",
        "outputId": "da15dc42-ab8e-4ffc-a630-31f23a6457c7"
      },
      "execution_count": null,
      "outputs": [
        {
          "output_type": "stream",
          "name": "stdout",
          "text": [
            "262\n"
          ]
        }
      ]
    },
    {
      "cell_type": "markdown",
      "source": [
        "Harshad number:21\n",
        "spilt 2,1\n",
        "2+1=3\n",
        "21%3=0"
      ],
      "metadata": {
        "id": "RFw8l20Byh9n"
      }
    },
    {
      "cell_type": "code",
      "source": [
        "n = 21\n",
        "s = n\n",
        "sum = 0\n",
        "while n != 0:\n",
        "    rem = n % 10\n",
        "    sum += rem\n",
        "    n = n // 10\n",
        "\n",
        "if s % sum== 0:\n",
        "    print(\"Harshad number\")\n",
        "else:\n",
        "    print(\"Not Harshad number\")\n"
      ],
      "metadata": {
        "id": "hO-0FqViypB5",
        "outputId": "2834ac3b-485e-4c6a-a384-5693d6e670d1",
        "colab": {
          "base_uri": "https://localhost:8080/"
        }
      },
      "execution_count": null,
      "outputs": [
        {
          "output_type": "stream",
          "name": "stdout",
          "text": [
            "Harshad number\n"
          ]
        }
      ]
    },
    {
      "cell_type": "markdown",
      "source": [
        "Friendly pair number:n(6,18)  \n",
        "6 divisibles:1,2,3 sum1+2+3=6//n==0   \n",
        "18 divisibles:1,2,4,7,11 sum1+2+4+7+11=28//n==0"
      ],
      "metadata": {
        "id": "KHaumrz4yvbs"
      }
    },
    {
      "cell_type": "code",
      "source": [
        "n = int(input(\"Enter a number: \"))\n",
        "n1 = int(input(\"Enter another number: \"))\n",
        "l1 = []\n",
        "l2 = []\n",
        "\n",
        "for i in range(1, n):\n",
        "    if n % i == 0:\n",
        "        l1.append(i)\n",
        "\n",
        "for j in range(1, n1):\n",
        "    if n1 % j == 0:\n",
        "        l2.append(j)\n",
        "\n",
        "if sum(l1) == n and sum(l2) == n1:\n",
        "    print(\"Friendly pair numbers\")\n",
        "else:\n",
        "    print(\"Not a friendly pair of numbers\")"
      ],
      "metadata": {
        "id": "d74rSmC2yuaF",
        "outputId": "7f6c7e74-ef4e-470d-a9b3-084a3ff5e17c",
        "colab": {
          "base_uri": "https://localhost:8080/"
        }
      },
      "execution_count": null,
      "outputs": [
        {
          "output_type": "stream",
          "name": "stdout",
          "text": [
            "Enter a number: 6\n",
            "Enter another number: 28\n",
            "Friendly pair numbers\n"
          ]
        }
      ]
    },
    {
      "cell_type": "code",
      "source": [
        "n = int(input(\"Enter a number: \"))\n",
        "n1 = int(input(\"Enter another number: \"))\n",
        "l1 =[]\n",
        "l2 =[]\n",
        "\n",
        "for i in range(1, n):\n",
        "    if n % i == 0:\n",
        "        l1.append(i)\n",
        "\n",
        "for j in range(1, n1):\n",
        "    if n1 % j == 0:\n",
        "        l2.append(j)\n",
        "print(l1)\n",
        "print(l2)"
      ],
      "metadata": {
        "id": "QpGlTm_NKtno",
        "outputId": "9152a7db-c58e-42eb-cbff-7928da7be4ed",
        "colab": {
          "base_uri": "https://localhost:8080/"
        }
      },
      "execution_count": null,
      "outputs": [
        {
          "output_type": "stream",
          "name": "stdout",
          "text": [
            "Enter a number: 6\n",
            "Enter another number: 28\n",
            "[1, 2, 3]\n",
            "[1, 2, 4, 7, 14]\n"
          ]
        }
      ]
    },
    {
      "cell_type": "code",
      "source": [
        "n=[1,2,3,4,5,6]\n",
        "v=n.count(1)\n",
        "print(v)"
      ],
      "metadata": {
        "id": "XckdPKfnPjtf",
        "outputId": "2db08f84-bbb7-4d84-915f-8526d26ad6dd",
        "colab": {
          "base_uri": "https://localhost:8080/"
        }
      },
      "execution_count": null,
      "outputs": [
        {
          "output_type": "stream",
          "name": "stdout",
          "text": [
            "1\n"
          ]
        }
      ]
    },
    {
      "cell_type": "code",
      "source": [
        "n=[1,2,4,4]\n",
        "n2=sum(n)\n",
        "print(n2)"
      ],
      "metadata": {
        "id": "D050oYeiRGZu",
        "outputId": "908b789e-df13-41cd-b470-59d65e8ea391",
        "colab": {
          "base_uri": "https://localhost:8080/"
        }
      },
      "execution_count": null,
      "outputs": [
        {
          "output_type": "stream",
          "name": "stdout",
          "text": [
            "11\n"
          ]
        }
      ]
    },
    {
      "cell_type": "code",
      "source": [
        "n=[1,345,55,66]\n",
        "n.append(2)\n",
        "print(n)"
      ],
      "metadata": {
        "id": "7j6_WqJSRT8q",
        "outputId": "0b055be9-5542-40d2-8e5a-b96aabb88a14",
        "colab": {
          "base_uri": "https://localhost:8080/"
        }
      },
      "execution_count": null,
      "outputs": [
        {
          "output_type": "stream",
          "name": "stdout",
          "text": [
            "[1, 345, 55, 66, 2]\n"
          ]
        }
      ]
    },
    {
      "cell_type": "code",
      "source": [
        "n=[1,345,55,66]\n",
        "n.pop()\n",
        "print(n)"
      ],
      "metadata": {
        "id": "Hg8fxMCPRh71",
        "outputId": "37d4eb72-fc26-4ce6-9e65-555aa981c099",
        "colab": {
          "base_uri": "https://localhost:8080/"
        }
      },
      "execution_count": null,
      "outputs": [
        {
          "output_type": "stream",
          "name": "stdout",
          "text": [
            "[1, 345, 55]\n"
          ]
        }
      ]
    },
    {
      "cell_type": "markdown",
      "source": [
        "fibbonaci series:start from o,1 and after that add two number 0+1=1,1+1=2,2+1=3,2+2=5..."
      ],
      "metadata": {
        "id": "x97Z0L4Wy6Cl"
      }
    },
    {
      "cell_type": "code",
      "source": [
        "n=int(input())\n",
        "n1=0\n",
        "n2=1\n",
        "c=0\n",
        "print(n1,n2,end=\" \")\n",
        "for i in range(2,n+1):\n",
        "    n3=n1+n2\n",
        "    n1=n2\n",
        "    n2=n3\n",
        "    print(n2,end=\" \")"
      ],
      "metadata": {
        "id": "pUxo9i0By4tE",
        "outputId": "9c58e31c-602e-4cb0-e8e7-71d5eb66b7be",
        "colab": {
          "base_uri": "https://localhost:8080/"
        }
      },
      "execution_count": null,
      "outputs": [
        {
          "output_type": "stream",
          "name": "stdout",
          "text": [
            "7\n",
            "0 1 1 2 3 5 8 13 "
          ]
        }
      ]
    },
    {
      "cell_type": "markdown",
      "source": [
        "Ramajan Number:   \n",
        "n1=10\n",
        "n2=9\n",
        "10cube+9cube=1729"
      ],
      "metadata": {
        "id": "Xl9VS1zRGbrY"
      }
    },
    {
      "cell_type": "code",
      "source": [
        "for i in range(1,11):\n",
        "  a=i**3\n",
        "  for j in range(2,11):\n",
        "    b=j**3\n",
        "    if a+b==1729:\n",
        "      break\n",
        "print(i)\n",
        "print(j)\n",
        "print(a+b)"
      ],
      "metadata": {
        "colab": {
          "base_uri": "https://localhost:8080/"
        },
        "id": "pyKRZO85FF1d",
        "outputId": "ea6659bc-00c3-4be9-e841-7105fb861674"
      },
      "execution_count": null,
      "outputs": [
        {
          "output_type": "stream",
          "name": "stdout",
          "text": [
            "10\n",
            "9\n",
            "1729\n"
          ]
        }
      ]
    },
    {
      "cell_type": "markdown",
      "source": [
        "Amstrong number:   \n",
        "n=153   \n",
        "len(n)=3    \n",
        "n1=1cube+5cube+3cube=153   \n",
        "n==n1"
      ],
      "metadata": {
        "id": "_f_sbYkG6sBN"
      }
    },
    {
      "cell_type": "code",
      "source": [
        "n = int(input())\n",
        "s = 0\n",
        "temp = n\n",
        "\n",
        "while temp > 0:\n",
        "    digit = temp % 10\n",
        "    s += digit ** 3\n",
        "    temp //= 10\n",
        "\n",
        "if s == n:\n",
        "    print(\"Armstrong number\")\n",
        "else:\n",
        "    print(\"Not an Armstrong number\")"
      ],
      "metadata": {
        "colab": {
          "base_uri": "https://localhost:8080/"
        },
        "id": "PnsulKNs6RJI",
        "outputId": "f1338a0a-90d9-4e9c-d28b-7a7c9fcfd3a8"
      },
      "execution_count": null,
      "outputs": [
        {
          "output_type": "stream",
          "name": "stdout",
          "text": [
            "153\n",
            "Armstrong number\n"
          ]
        }
      ]
    },
    {
      "cell_type": "markdown",
      "source": [
        "n=lonely number:[1,2,2,3,3,4,4]   \n",
        "o/p:1"
      ],
      "metadata": {
        "id": "6w2ZpwSe78cO"
      }
    },
    {
      "cell_type": "code",
      "source": [
        "l = [1,2,2,2,5,5,6,6]\n",
        "m=[]\n",
        "n=[]\n",
        "count=0\n",
        "for i in l:\n",
        "  v=l.count(i)\n",
        "  if v<2:\n",
        "    m.append(i)\n",
        "  else:\n",
        "    n.append(i)\n",
        "print(n)"
      ],
      "metadata": {
        "colab": {
          "base_uri": "https://localhost:8080/"
        },
        "id": "XO-mRwkY6o38",
        "outputId": "7d677340-918c-4bf0-900b-bc3eb0613670"
      },
      "execution_count": null,
      "outputs": [
        {
          "output_type": "stream",
          "name": "stdout",
          "text": [
            "[2, 2, 2, 5, 5, 6, 6]\n"
          ]
        }
      ]
    },
    {
      "cell_type": "markdown",
      "source": [
        "Missing number:"
      ],
      "metadata": {
        "id": "Y1L7J3_RBcaI"
      }
    },
    {
      "cell_type": "code",
      "source": [
        "n=[1,3,0]\n",
        "k=0\n",
        "for i in range(len(n)+1):\n",
        "  if i not in n:\n",
        "    k+=i\n",
        "    print(k)"
      ],
      "metadata": {
        "colab": {
          "base_uri": "https://localhost:8080/"
        },
        "id": "yVwjNME5Bhhg",
        "outputId": "d425310f-dc40-4541-ebaa-f94bf6365891"
      },
      "execution_count": null,
      "outputs": [
        {
          "output_type": "stream",
          "name": "stdout",
          "text": [
            "2\n"
          ]
        }
      ]
    },
    {
      "cell_type": "markdown",
      "source": [
        "Prime numer:"
      ],
      "metadata": {
        "id": "z5PdJ6-ypQx5"
      }
    },
    {
      "cell_type": "code",
      "source": [
        "n=7\n",
        "c=0\n",
        "for i in range(2,n+1):\n",
        "  if n%i==0:\n",
        "    c+=1\n",
        "  if c==1:\n",
        "    print(\"Prime number\")\n",
        "  else:\n",
        "    print(\"Not a prime number\")"
      ],
      "metadata": {
        "colab": {
          "base_uri": "https://localhost:8080/"
        },
        "id": "XMF8GpDeD-21",
        "outputId": "d6fa4eac-257d-40ab-b158-f5061e26da68"
      },
      "execution_count": null,
      "outputs": [
        {
          "output_type": "stream",
          "name": "stdout",
          "text": [
            "Not a prime number\n",
            "Not a prime number\n",
            "Not a prime number\n",
            "Not a prime number\n",
            "Not a prime number\n",
            "Prime number\n"
          ]
        }
      ]
    },
    {
      "cell_type": "code",
      "execution_count": null,
      "metadata": {
        "colab": {
          "base_uri": "https://localhost:8080/"
        },
        "id": "SlQyL1ZSr_qQ",
        "outputId": "daca9739-b5db-488e-a8a2-87a1d27f76cb"
      },
      "outputs": [
        {
          "output_type": "stream",
          "name": "stdout",
          "text": [
            "Enter number of elements : 3\n",
            "ANUSHA\n",
            "1\n",
            "SHARONI\n",
            "2\n",
            "SHIREESHA\n",
            "3\n",
            "[['ANUSHA', 1], ['SHARONI', 2], ['SHIREESHA', 3]]\n"
          ]
        }
      ],
      "source": [
        "lst = []\n",
        "n = int(input(\"Enter number of elements : \"))\n",
        "\n",
        "for i in range(0, n):\n",
        "    ele = [input(), int(input())]\n",
        "    lst.append(ele)\n",
        "\n",
        "print(lst)\n"
      ]
    },
    {
      "cell_type": "markdown",
      "source": [
        "square numbers upto n\n"
      ],
      "metadata": {
        "id": "JetDrdqStjf0"
      }
    },
    {
      "cell_type": "code",
      "source": [
        "n=int(input())\n",
        "for i in range(n+1):\n",
        "  print(i**2)"
      ],
      "metadata": {
        "colab": {
          "base_uri": "https://localhost:8080/"
        },
        "id": "7KuGKfM1til9",
        "outputId": "eabdab25-2e2e-4dbc-f799-af74cb9e1daa"
      },
      "execution_count": null,
      "outputs": [
        {
          "output_type": "stream",
          "name": "stdout",
          "text": [
            "6\n",
            "0\n",
            "1\n",
            "4\n",
            "9\n",
            "16\n",
            "25\n",
            "36\n"
          ]
        }
      ]
    },
    {
      "cell_type": "markdown",
      "source": [
        "RVERSE NUMBER IN A STRING"
      ],
      "metadata": {
        "id": "2zaQm7BPt7So"
      }
    },
    {
      "cell_type": "code",
      "source": [
        "s=\"welcome to india\".split()\n",
        "n=\" \"\n",
        "for i in s[::-1]:\n",
        "  n+=i+\" \"\n",
        "st=n[:-1]\n",
        "print(st)"
      ],
      "metadata": {
        "colab": {
          "base_uri": "https://localhost:8080/"
        },
        "id": "d8axnsUruAgp",
        "outputId": "9a85052a-86e7-4f80-be95-790ae8ee6bf4"
      },
      "execution_count": null,
      "outputs": [
        {
          "output_type": "stream",
          "name": "stdout",
          "text": [
            " india to welcome\n"
          ]
        }
      ]
    },
    {
      "cell_type": "markdown",
      "source": [],
      "metadata": {
        "id": "XlgtCVunBp0i"
      }
    },
    {
      "cell_type": "code",
      "source": [
        "n=802400\n",
        "n1=str(n)\n",
        "n1=n1[::-1]\n",
        "print(n1)\n",
        "count=0\n",
        "for i in n1:\n",
        "  if i=='0':\n",
        "    count+=1\n",
        "  else:\n",
        "    break\n",
        "print(count)"
      ],
      "metadata": {
        "id": "8jdU-5o2BoD_",
        "outputId": "9360e528-8438-4bc9-ea4e-f47071b57cbd",
        "colab": {
          "base_uri": "https://localhost:8080/"
        }
      },
      "execution_count": null,
      "outputs": [
        {
          "output_type": "stream",
          "name": "stdout",
          "text": [
            "004208\n",
            "2\n"
          ]
        }
      ]
    },
    {
      "cell_type": "markdown",
      "source": [
        "LCM/HCF"
      ],
      "metadata": {
        "id": "TZ96lIjAE-MP"
      }
    },
    {
      "cell_type": "code",
      "source": [],
      "metadata": {
        "id": "Bp7N8O-ZH-we"
      },
      "execution_count": null,
      "outputs": []
    }
  ]
}