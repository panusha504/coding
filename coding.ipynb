{
  "nbformat": 4,
  "nbformat_minor": 0,
  "metadata": {
    "colab": {
      "provenance": [],
      "authorship_tag": "ABX9TyMde6qlBtRkGIqTFsqhycFK",
      "include_colab_link": true
    },
    "kernelspec": {
      "name": "python3",
      "display_name": "Python 3"
    },
    "language_info": {
      "name": "python"
    }
  },
  "cells": [
    {
      "cell_type": "markdown",
      "metadata": {
        "id": "view-in-github",
        "colab_type": "text"
      },
      "source": [
        "<a href=\"https://colab.research.google.com/github/panusha504/coding/blob/master/coding.ipynb\" target=\"_parent\"><img src=\"https://colab.research.google.com/assets/colab-badge.svg\" alt=\"Open In Colab\"/></a>"
      ]
    },
    {
      "cell_type": "markdown",
      "source": [
        "Marriage number:   "
      ],
      "metadata": {
        "id": "96j3DrFtmkw3"
      }
    },
    {
      "cell_type": "markdown",
      "source": [
        "Strong number:   \n",
        "n=145  \n",
        "1!+4!+5!   \n",
        "1+24+120=125"
      ],
      "metadata": {
        "id": "oA6bzB53tjGm"
      }
    },
    {
      "cell_type": "code",
      "source": [],
      "metadata": {
        "id": "y0TVK5douAkm"
      },
      "execution_count": null,
      "outputs": []
    },
    {
      "cell_type": "markdown",
      "source": [
        "perfect number:  \n",
        "n=28  \n",
        "1 to 28   \n",
        "28 remainders 1,2,4,7,14   \n",
        "sum of all divisors (n1) 1+2+4+7+14=28     \n",
        "n==n1\n"
      ],
      "metadata": {
        "id": "5rzYhS2TppPR"
      }
    },
    {
      "cell_type": "code",
      "source": [
        "n = int(input())\n",
        "s = 0\n",
        "for i in range(1, n):\n",
        "    if n % i == 0:\n",
        "        s = s + i\n",
        "if s == n:\n",
        "    print(\"Perfect number\")\n",
        "else:\n",
        "    print(\"Not a perfect number\")"
      ],
      "metadata": {
        "colab": {
          "base_uri": "https://localhost:8080/"
        },
        "id": "mxPqrKclsWIm",
        "outputId": "d0088eb0-bf83-4490-ae52-a6790e3f2ba2"
      },
      "execution_count": 45,
      "outputs": [
        {
          "output_type": "stream",
          "name": "stdout",
          "text": [
            "28\n",
            "Perfect number\n"
          ]
        }
      ]
    },
    {
      "cell_type": "markdown",
      "source": [
        "Amicable Numbers:220,284   \n",
        "220 divisors 1,2,4,5,10,11,22,44,55,110  \n",
        "sum of divisors 1+2+4+5+10+11+22+44+55+110=284  \n",
        "284 divisors 1,2,4,71,142   \n",
        "sum of divisors 1+2+4+71+142=220    \n",
        "sum of all amicable numbers fron 1 to 999\n",
        "220+284=504"
      ],
      "metadata": {
        "id": "4A4SmwJYhONb"
      }
    },
    {
      "cell_type": "code",
      "source": [
        "n1=int(input())\n",
        "n2=int(input())\n",
        "s1=0\n",
        "s2=0\n",
        "for i in range(1,n1):\n",
        "  if n%i==0:\n",
        "    s1=s1+i\n",
        "for j in range(1,n2):\n",
        "  if n%j==0:\n",
        "    s2=s2+i\n",
        "if n1%s1 and n2%s2:\n",
        "  print(\"Amicable number:\")\n",
        "else:\n",
        "  print(\"Not amicable number\")"
      ],
      "metadata": {
        "colab": {
          "base_uri": "https://localhost:8080/"
        },
        "id": "vg9151Xrjl68",
        "outputId": "2c14fd45-b74b-4f72-ca27-ee3107b7538c"
      },
      "execution_count": 35,
      "outputs": [
        {
          "output_type": "stream",
          "name": "stdout",
          "text": [
            "220\n",
            "284\n",
            "Amicable number:\n"
          ]
        }
      ]
    },
    {
      "cell_type": "markdown",
      "source": [
        "Abundant Number(n)28 remainders 1,2,3,4,7,8,12 add all elemtents result will be n2=35     \n",
        "n>n2"
      ],
      "metadata": {
        "id": "mHXwZzrcb6iI"
      }
    },
    {
      "cell_type": "code",
      "source": [
        "n = int(input())\n",
        "s = 0\n",
        "\n",
        "for i in range(1, n):\n",
        "    if n % i == 0:\n",
        "        s = s + i\n",
        "\n",
        "if n >= s:\n",
        "    print(\"Abundant number\")\n",
        "else:\n",
        "    print(\"Not abundant number\")\n"
      ],
      "metadata": {
        "colab": {
          "base_uri": "https://localhost:8080/"
        },
        "id": "C3zBB1I_dpOt",
        "outputId": "b8d8ea42-8a6b-4912-ec52-c91b2607b850"
      },
      "execution_count": 26,
      "outputs": [
        {
          "output_type": "stream",
          "name": "stdout",
          "text": [
            "28\n",
            "Abundant number\n"
          ]
        }
      ]
    },
    {
      "cell_type": "markdown",
      "source": [
        "Automorphic Number:  \n",
        "n=5 , n1(sqr)=25 ,,n(5)==last digit(n2)"
      ],
      "metadata": {
        "id": "6cUTxblaaloM"
      }
    },
    {
      "cell_type": "code",
      "source": [
        "n=int(input())\n",
        "temp=n\n",
        "n2=n*n\n",
        "p=len(str(n))\n",
        "n3=str(n2)\n",
        "n4=n3[p:]\n",
        "if int(n4)==temp:\n",
        "  print(\"Automorphic number\")\n",
        "else:\n",
        "  print(\"Not automorpic number\")\n"
      ],
      "metadata": {
        "colab": {
          "base_uri": "https://localhost:8080/"
        },
        "id": "5p-Mna-PbIY9",
        "outputId": "9503d445-4cdf-43c1-e29f-68ede361cd25"
      },
      "execution_count": 5,
      "outputs": [
        {
          "output_type": "stream",
          "name": "stdout",
          "text": [
            "5\n",
            "Automorphic number\n"
          ]
        }
      ]
    },
    {
      "cell_type": "markdown",
      "source": [
        "trinagle number:1,2,3,4,5,6,7,8,9,10    \n",
        "1,1+2=3,3+3=6,6+4=10,10+5=15,15+6=21,21+7=28,........"
      ],
      "metadata": {
        "id": "l4kivWt_ERTG"
      }
    },
    {
      "cell_type": "code",
      "source": [
        "n=int(input())\n",
        "k=[1,3]\n",
        "c=3\n",
        "for i in range(3,n+1):\n",
        "  v=c+i\n",
        "  k.append(v)\n",
        "  c==v\n",
        "if n in k:\n",
        "  print(\"Triangle number\")\n",
        "else:\n",
        "  print(\"Not triangle number\")"
      ],
      "metadata": {
        "id": "Bd39CYctEZCx",
        "outputId": "25d8a7cc-c837-4d90-9aa0-74f3b82484f0",
        "colab": {
          "base_uri": "https://localhost:8080/"
        }
      },
      "execution_count": null,
      "outputs": [
        {
          "output_type": "stream",
          "name": "stdout",
          "text": [
            "10\n",
            "Triangle number\n"
          ]
        }
      ]
    },
    {
      "cell_type": "markdown",
      "source": [
        "Sociable number n :4,4,4,4   \n",
        "4 remainders 1,2,=1+2=3 is==n 1st digit\n",
        " 2 nd 4 remainders 1,2 =1+2=3 is ==n 3rd digit   \n",
        " 3 rd 4 remainders 1,2 =1+2 is ==n 4th digit\n"
      ],
      "metadata": {
        "id": "K1s5azbPCXlf"
      }
    },
    {
      "cell_type": "code",
      "source": [
        "n1=int(input())\n",
        "n2=int(input())\n",
        "n3=int(input())\n",
        "n4=int(input())\n",
        "s=0\n",
        "s1=0\n",
        "s3=0\n",
        "s4=0\n",
        "for i in range(1,n1):\n",
        "  if n1%i==0:\n",
        "    s=s+i\n",
        "for i in range(1,n2):\n",
        "  if n2%i==0:\n",
        "    s1=s1+1\n",
        "for i in range(1,n3):\n",
        "  if n3%i==0:\n",
        "    s3=s3+1\n",
        "for i in range(1,n4):\n",
        "  if n4%i==0:\n",
        "    s4=s4+1\n",
        "if n1%s and n2%s1 and n3%s3 and n4%s4:\n",
        "  print(\"Sociable number\")\n",
        "else:\n",
        "  print(\"Not sociable number\")"
      ],
      "metadata": {
        "id": "gb4Bfeqj2sXN",
        "outputId": "6f3ff1b2-c1f9-406c-a9b5-91e4c16b6090",
        "colab": {
          "base_uri": "https://localhost:8080/"
        }
      },
      "execution_count": null,
      "outputs": [
        {
          "output_type": "stream",
          "name": "stdout",
          "text": [
            "4\n",
            "4\n",
            "4\n",
            "4\n",
            "Not sociable number\n"
          ]
        }
      ]
    },
    {
      "cell_type": "markdown",
      "source": [
        "two sum\n",
        "n==target"
      ],
      "metadata": {
        "id": "xJiO3_wR2uoi"
      }
    },
    {
      "cell_type": "code",
      "source": [
        "n=[2,7,30,30]\n",
        "target=9\n",
        "for i in range(len(n)):\n",
        "  for j in range(i+1,len(n)):\n",
        "    if n[i]+n[j]==target:\n",
        "      print(i,j)\n",
        "      break"
      ],
      "metadata": {
        "colab": {
          "base_uri": "https://localhost:8080/"
        },
        "id": "QPbR0u9S2Dv8",
        "outputId": "9190b579-b67e-4372-d1ca-fb29b14a60af"
      },
      "execution_count": null,
      "outputs": [
        {
          "output_type": "stream",
          "name": "stdout",
          "text": [
            "0 1\n"
          ]
        }
      ]
    },
    {
      "cell_type": "markdown",
      "source": [
        "Harshad number:21\n",
        "spilt 2,1\n",
        "2+1=3\n",
        "21%3=0"
      ],
      "metadata": {
        "id": "RFw8l20Byh9n"
      }
    },
    {
      "cell_type": "code",
      "source": [
        "n = 21\n",
        "s = n\n",
        "sum = 0\n",
        "while n != 0:\n",
        "    rem = n % 10\n",
        "    sum += rem\n",
        "    n = n // 10\n",
        "\n",
        "if s % sum== 0:\n",
        "    print(\"Harshad number\")\n",
        "else:\n",
        "    print(\"Not Harshad number\")\n"
      ],
      "metadata": {
        "id": "hO-0FqViypB5",
        "outputId": "2834ac3b-485e-4c6a-a384-5693d6e670d1",
        "colab": {
          "base_uri": "https://localhost:8080/"
        }
      },
      "execution_count": null,
      "outputs": [
        {
          "output_type": "stream",
          "name": "stdout",
          "text": [
            "Harshad number\n"
          ]
        }
      ]
    },
    {
      "cell_type": "markdown",
      "source": [
        "Friendly pair number:n(6,18)  \n",
        "6 divisibles:1,2,3 sum1+2+3=6//n==0   \n",
        "18 divisibles:1,2,4,7,11 sum1+2+4+7+11=28//n==0"
      ],
      "metadata": {
        "id": "KHaumrz4yvbs"
      }
    },
    {
      "cell_type": "code",
      "source": [
        "n = int(input(\"Enter a number: \"))\n",
        "n1 = int(input(\"Enter another number: \"))\n",
        "l1 = []\n",
        "l2 = []\n",
        "\n",
        "for i in range(1, n):\n",
        "    if n % i == 0:\n",
        "        l1.append(i)\n",
        "\n",
        "for j in range(1, n1):\n",
        "    if n1 % j == 0:\n",
        "        l2.append(j)\n",
        "\n",
        "if sum(l1) == n1 and sum(l2) == n:\n",
        "    print(\"Friendly pair numbers\")\n",
        "else:\n",
        "    print(\"Not a friendly pair of numbers\")"
      ],
      "metadata": {
        "id": "d74rSmC2yuaF"
      },
      "execution_count": null,
      "outputs": []
    },
    {
      "cell_type": "markdown",
      "source": [
        "fibbonaci series:start from o,1 and after that add two number 0+1=1,1+1=2,2+1=3,2+2=5..."
      ],
      "metadata": {
        "id": "x97Z0L4Wy6Cl"
      }
    },
    {
      "cell_type": "code",
      "source": [
        "n=int(input())\n",
        "n1=0\n",
        "n2=1\n",
        "c=0\n",
        "print(n1,n2,end=\" \")\n",
        "for i in range(2,n+1):\n",
        "    n3=n1+n2\n",
        "    n1=n2\n",
        "    n2=n3\n",
        "    print(n2,end=\" \")"
      ],
      "metadata": {
        "id": "pUxo9i0By4tE",
        "outputId": "9c58e31c-602e-4cb0-e8e7-71d5eb66b7be",
        "colab": {
          "base_uri": "https://localhost:8080/"
        }
      },
      "execution_count": null,
      "outputs": [
        {
          "output_type": "stream",
          "name": "stdout",
          "text": [
            "7\n",
            "0 1 1 2 3 5 8 13 "
          ]
        }
      ]
    },
    {
      "cell_type": "markdown",
      "source": [
        "Prime numer:"
      ],
      "metadata": {
        "id": "z5PdJ6-ypQx5"
      }
    },
    {
      "cell_type": "code",
      "execution_count": null,
      "metadata": {
        "colab": {
          "base_uri": "https://localhost:8080/"
        },
        "id": "SlQyL1ZSr_qQ",
        "outputId": "daca9739-b5db-488e-a8a2-87a1d27f76cb"
      },
      "outputs": [
        {
          "output_type": "stream",
          "name": "stdout",
          "text": [
            "Enter number of elements : 3\n",
            "ANUSHA\n",
            "1\n",
            "SHARONI\n",
            "2\n",
            "SHIREESHA\n",
            "3\n",
            "[['ANUSHA', 1], ['SHARONI', 2], ['SHIREESHA', 3]]\n"
          ]
        }
      ],
      "source": [
        "lst = []\n",
        "n = int(input(\"Enter number of elements : \"))\n",
        "\n",
        "for i in range(0, n):\n",
        "    ele = [input(), int(input())]\n",
        "    lst.append(ele)\n",
        "\n",
        "print(lst)\n"
      ]
    },
    {
      "cell_type": "markdown",
      "source": [
        "square numbers upto n\n"
      ],
      "metadata": {
        "id": "JetDrdqStjf0"
      }
    },
    {
      "cell_type": "code",
      "source": [
        "n=int(input())\n",
        "for i in range(n+1):\n",
        "  print(i**2)"
      ],
      "metadata": {
        "colab": {
          "base_uri": "https://localhost:8080/"
        },
        "id": "7KuGKfM1til9",
        "outputId": "eabdab25-2e2e-4dbc-f799-af74cb9e1daa"
      },
      "execution_count": null,
      "outputs": [
        {
          "output_type": "stream",
          "name": "stdout",
          "text": [
            "6\n",
            "0\n",
            "1\n",
            "4\n",
            "9\n",
            "16\n",
            "25\n",
            "36\n"
          ]
        }
      ]
    },
    {
      "cell_type": "markdown",
      "source": [
        "RVERSE NUMBER IN A STRING"
      ],
      "metadata": {
        "id": "2zaQm7BPt7So"
      }
    },
    {
      "cell_type": "code",
      "source": [
        "s=\"welcome to india\".split()\n",
        "n=\" \"\n",
        "for i in s[::-1]:\n",
        "  n+=i+\" \"\n",
        "st=n[:-1]\n",
        "print(st)"
      ],
      "metadata": {
        "colab": {
          "base_uri": "https://localhost:8080/"
        },
        "id": "d8axnsUruAgp",
        "outputId": "9a85052a-86e7-4f80-be95-790ae8ee6bf4"
      },
      "execution_count": null,
      "outputs": [
        {
          "output_type": "stream",
          "name": "stdout",
          "text": [
            " india to welcome\n"
          ]
        }
      ]
    },
    {
      "cell_type": "markdown",
      "source": [],
      "metadata": {
        "id": "XlgtCVunBp0i"
      }
    },
    {
      "cell_type": "code",
      "source": [
        "n=802400\n",
        "n1=str(n)\n",
        "n1=n1[::-1]\n",
        "print(n1)\n",
        "count=0\n",
        "for i in n1:\n",
        "  if i=='0':\n",
        "    count+=1\n",
        "  else:\n",
        "    break\n",
        "print(count)"
      ],
      "metadata": {
        "id": "8jdU-5o2BoD_",
        "outputId": "9360e528-8438-4bc9-ea4e-f47071b57cbd",
        "colab": {
          "base_uri": "https://localhost:8080/"
        }
      },
      "execution_count": null,
      "outputs": [
        {
          "output_type": "stream",
          "name": "stdout",
          "text": [
            "004208\n",
            "2\n"
          ]
        }
      ]
    },
    {
      "cell_type": "markdown",
      "source": [
        "LCM/HCF"
      ],
      "metadata": {
        "id": "TZ96lIjAE-MP"
      }
    },
    {
      "cell_type": "code",
      "source": [],
      "metadata": {
        "id": "Bp7N8O-ZH-we"
      },
      "execution_count": null,
      "outputs": []
    }
  ]
}